{
 "cells": [
  {
   "cell_type": "code",
   "execution_count": 1,
   "id": "b6539b51",
   "metadata": {},
   "outputs": [],
   "source": [
    "import numpy as np"
   ]
  },
  {
   "cell_type": "code",
   "execution_count": 2,
   "id": "7f7d197e",
   "metadata": {},
   "outputs": [],
   "source": [
    "A = [[1.,2.],[10.,20.]]\n",
    "B = [[1.,2.],[100.,200.]]"
   ]
  },
  {
   "cell_type": "code",
   "execution_count": 3,
   "id": "97e2c343",
   "metadata": {},
   "outputs": [
    {
     "data": {
      "text/plain": [
       "[[1.0, 2.0], [10.0, 20.0]]"
      ]
     },
     "execution_count": 3,
     "metadata": {},
     "output_type": "execute_result"
    }
   ],
   "source": [
    "A"
   ]
  },
  {
   "cell_type": "code",
   "execution_count": 4,
   "id": "9bcb2a52",
   "metadata": {},
   "outputs": [
    {
     "data": {
      "text/plain": [
       "[[1.0, 2.0], [100.0, 200.0]]"
      ]
     },
     "execution_count": 4,
     "metadata": {},
     "output_type": "execute_result"
    }
   ],
   "source": [
    "B"
   ]
  },
  {
   "cell_type": "code",
   "execution_count": 5,
   "id": "b394b189",
   "metadata": {},
   "outputs": [
    {
     "data": {
      "text/plain": [
       "array([[ 201.,  402.],\n",
       "       [2010., 4020.]])"
      ]
     },
     "execution_count": 5,
     "metadata": {},
     "output_type": "execute_result"
    }
   ],
   "source": [
    "np.dot(A, B)"
   ]
  },
  {
   "cell_type": "markdown",
   "id": "aa9a7463",
   "metadata": {},
   "source": [
    "# Principle component identification"
   ]
  },
  {
   "cell_type": "code",
   "execution_count": 1,
   "id": "098c0027",
   "metadata": {},
   "outputs": [],
   "source": [
    "import numpy as np\n",
    "import matplotlib.pyplot as plt\n",
    "%matplotlib inline\n",
    "import pandas as pd\n",
    "import seaborn as sns\n",
    "sns.set()"
   ]
  },
  {
   "cell_type": "code",
   "execution_count": 2,
   "id": "7d677fee",
   "metadata": {},
   "outputs": [],
   "source": [
    "rnd_num = np.random.RandomState(42)\n",
    "X = np.dot(rnd_num.rand(2,2), rnd_num.randn(2, 500)).T"
   ]
  },
  {
   "cell_type": "code",
   "execution_count": 3,
   "id": "92119464",
   "metadata": {},
   "outputs": [
    {
     "data": {
      "text/plain": [
       "array([[-7.06275032e-01, -5.60911546e-01],\n",
       "       [-5.50810755e-01, -4.63008578e-01],\n",
       "       [ 2.82811768e-02,  8.01332565e-01],\n",
       "       [-5.33973291e-01,  4.45221679e-02],\n",
       "       [-1.29706786e-01, -3.14604522e-01],\n",
       "       [-5.86785660e-01, -1.00304672e-01],\n",
       "       [ 8.35586558e-02, -1.77307670e-01],\n",
       "       [-2.22196567e-01, -3.70986829e-01],\n",
       "       [-1.36546749e-01,  3.40666414e-02],\n",
       "       [-1.57943397e+00, -1.94383023e+00],\n",
       "       [-1.19439569e+00, -1.60791845e+00],\n",
       "       [ 5.07562007e-01,  4.06303013e-02],\n",
       "       [ 9.68832484e-02, -4.41507920e-01],\n",
       "       [-8.11677523e-01, -3.55194597e-01],\n",
       "       [-2.45654801e-01, -6.05201995e-01],\n",
       "       [ 1.85390092e-01, -5.83973477e-01],\n",
       "       [-1.03818322e+00,  7.34423846e-02],\n",
       "       [ 4.32018026e-01,  1.60020305e-01],\n",
       "       [-6.04673866e-01, -3.47255098e-01],\n",
       "       [ 8.85096246e-03, -7.01313307e-01],\n",
       "       [-9.29534570e-01, -8.55416426e-01],\n",
       "       [-1.67438227e+00, -9.99313319e-01],\n",
       "       [-1.97842115e+00, -1.81686241e+00],\n",
       "       [ 1.86429027e-01,  3.03795135e-01],\n",
       "       [ 2.19586118e-02, -2.84178803e-01],\n",
       "       [-9.68997765e-01, -7.54894878e-01],\n",
       "       [ 3.81755720e-01, -5.81468015e-02],\n",
       "       [-8.85878402e-01,  3.61173328e-01],\n",
       "       [-6.78782621e-02, -4.94391188e-02],\n",
       "       [-1.54748560e+00, -1.49922311e+00],\n",
       "       [-3.11633844e-01,  2.11870676e-01],\n",
       "       [-4.12192331e-01, -8.65274539e-01],\n",
       "       [-7.39779500e-01, -3.62206875e-01],\n",
       "       [-1.09957754e+00, -1.66468410e+00],\n",
       "       [ 4.59238010e-01, -3.69798414e-01],\n",
       "       [-4.74726923e-01, -2.01259980e-01],\n",
       "       [ 1.07108981e+00,  1.04084724e+00],\n",
       "       [-1.00984417e+00, -5.50868050e-01],\n",
       "       [ 4.60377490e-01,  2.32517924e-01],\n",
       "       [ 1.25774450e+00,  6.42601204e-01],\n",
       "       [-2.90359359e+00, -2.56194009e+00],\n",
       "       [-1.02723026e+00, -1.00398971e+00],\n",
       "       [ 3.76103027e-01,  8.28433522e-03],\n",
       "       [ 2.02896531e-01,  6.52252222e-01],\n",
       "       [ 4.81552527e-01,  4.73716132e-01],\n",
       "       [-1.23454663e+00, -1.65211557e+00],\n",
       "       [ 2.03704598e-01,  2.89065213e-01],\n",
       "       [-2.92233338e-01, -3.75075394e-01],\n",
       "       [ 8.56692666e-01,  2.03599836e-01],\n",
       "       [ 4.70978845e-01,  6.00054534e-01],\n",
       "       [ 7.07114364e-01,  9.56794102e-01],\n",
       "       [-4.27755577e-02,  4.35117765e-01],\n",
       "       [-7.77894844e-01, -9.06211746e-01],\n",
       "       [-5.27051698e-01, -4.85296215e-01],\n",
       "       [ 4.99082740e-01,  4.78624947e-01],\n",
       "       [-3.48551808e-02,  4.62067192e-01],\n",
       "       [ 9.60231261e-02, -1.77276463e-01],\n",
       "       [ 1.90357650e+00,  1.10655505e+00],\n",
       "       [ 4.13823886e-01, -2.88324304e-01],\n",
       "       [-7.57982607e-01, -1.07079276e+00],\n",
       "       [ 1.44633478e+00,  1.31388089e+00],\n",
       "       [ 1.20003206e-01,  7.48461700e-01],\n",
       "       [-1.96464483e+00, -1.27285152e+00],\n",
       "       [-5.82538747e-01,  1.31080579e-01],\n",
       "       [-1.64314144e+00, -8.55250076e-01],\n",
       "       [-5.75812128e-01, -6.82660282e-01],\n",
       "       [ 1.52867770e-01,  2.75565713e-01],\n",
       "       [ 2.16986933e+00,  2.12944687e+00],\n",
       "       [ 2.97396242e-01,  1.69493402e-01],\n",
       "       [ 3.77719814e-01,  1.01414329e+00],\n",
       "       [-1.92671891e-01, -1.42110686e+00],\n",
       "       [-1.79432251e+00, -7.22087258e-01],\n",
       "       [ 2.56604750e-01,  2.04770581e-01],\n",
       "       [ 6.20882320e-01,  2.42613419e-01],\n",
       "       [-1.37134500e+00, -8.17999868e-01],\n",
       "       [ 3.42959034e-01, -7.70170343e-01],\n",
       "       [ 2.39537442e-01,  4.18452551e-02],\n",
       "       [-2.61067176e-01,  1.27886059e-02],\n",
       "       [ 1.15512538e+00,  1.46062972e+00],\n",
       "       [ 1.96466720e+00,  9.79998884e-01],\n",
       "       [-1.29910440e-01, -4.82936643e-01],\n",
       "       [ 4.80587198e-02, -2.18683756e-01],\n",
       "       [-9.38661610e-02,  3.95068505e-01],\n",
       "       [-6.84828721e-01, -2.68122721e-01],\n",
       "       [ 5.90995690e-01,  1.09306322e-01],\n",
       "       [-6.21651895e-01, -1.36793194e-01],\n",
       "       [ 1.04398482e-01,  1.13903913e-01],\n",
       "       [-9.13193583e-02,  4.23088582e-01],\n",
       "       [ 1.92425924e-01, -2.27153275e-01],\n",
       "       [ 1.94494718e-01, -4.00970561e-02],\n",
       "       [ 8.39543834e-01,  3.34111298e-01],\n",
       "       [-1.03302495e+00, -1.37660972e+00],\n",
       "       [-1.45665038e-01,  5.51953292e-02],\n",
       "       [-8.32748995e-01, -3.94854325e-01],\n",
       "       [-4.20480764e-01, -2.62236910e-01],\n",
       "       [ 2.70842684e-01,  5.41577808e-02],\n",
       "       [ 1.89566782e-01, -5.82865151e-01],\n",
       "       [-1.03426432e+00, -8.59971923e-01],\n",
       "       [ 6.98386453e-01,  2.69732012e-01],\n",
       "       [ 9.88339283e-01,  2.24302005e-01],\n",
       "       [ 3.32650508e-01,  1.29446149e-01],\n",
       "       [ 1.93562989e+00,  1.41932252e+00],\n",
       "       [-2.92001701e-02,  9.17441184e-01],\n",
       "       [-1.11792464e+00, -6.17333197e-01],\n",
       "       [-1.59459183e+00, -8.76320642e-01],\n",
       "       [ 1.39442775e+00,  8.41125660e-01],\n",
       "       [-9.65420079e-02, -1.01278735e+00],\n",
       "       [-6.27756519e-02, -5.26842310e-02],\n",
       "       [ 2.88728808e-01,  2.11693742e-01],\n",
       "       [-1.47435545e-01,  1.12929474e+00],\n",
       "       [ 2.25316450e+00,  1.32336311e+00],\n",
       "       [ 2.35794004e-01,  2.98090185e-01],\n",
       "       [ 9.10022459e-02,  4.00813168e-02],\n",
       "       [ 2.52279901e-01, -4.20978897e-01],\n",
       "       [ 8.85335351e-01,  1.12449963e+00],\n",
       "       [ 4.94478832e-01,  6.84440495e-01],\n",
       "       [-4.55242174e-01,  1.05806354e-01],\n",
       "       [ 1.07629627e-01, -3.83417576e-01],\n",
       "       [ 2.31467036e+00,  2.15352687e+00],\n",
       "       [ 7.54060622e-01, -2.20699360e-01],\n",
       "       [ 1.73446684e+00,  1.38335053e+00],\n",
       "       [ 3.34393453e-01,  1.29735665e+00],\n",
       "       [-1.31182705e+00, -1.31750191e+00],\n",
       "       [-3.31688643e-01, -4.89829914e-01],\n",
       "       [ 9.03019055e-02,  1.06304387e-01],\n",
       "       [ 8.51691699e-01,  2.86505907e-01],\n",
       "       [-2.18983600e+00, -2.14828455e+00],\n",
       "       [ 1.47984496e+00,  9.65865958e-01],\n",
       "       [-5.48095729e-01, -8.72192652e-01],\n",
       "       [-2.28462575e-01,  9.11108158e-02],\n",
       "       [-1.30658337e+00, -1.27891784e+00],\n",
       "       [-9.92783297e-01,  1.43848608e-01],\n",
       "       [ 4.89240270e-01, -8.05386109e-02],\n",
       "       [-5.09205182e-02, -1.91854656e-01],\n",
       "       [-9.21689447e-01, -1.76756362e-01],\n",
       "       [-1.69225798e+00, -1.67629512e+00],\n",
       "       [-2.34042447e-01, -3.45210650e-02],\n",
       "       [ 2.07634004e+00,  1.95599447e+00],\n",
       "       [-8.48864173e-01, -1.33207455e+00],\n",
       "       [-1.35990672e+00, -7.64718416e-01],\n",
       "       [-1.36294914e-01,  4.31164607e-02],\n",
       "       [ 3.35418319e-02,  4.09021327e-01],\n",
       "       [-3.02725638e+00, -2.51995450e+00],\n",
       "       [-5.46182883e-01, -9.99070324e-01],\n",
       "       [-2.40647057e-02,  2.43807148e-01],\n",
       "       [ 7.73126026e-01,  6.34180829e-01],\n",
       "       [ 1.85164863e+00,  1.29025250e+00],\n",
       "       [ 1.20080024e+00,  9.28025703e-01],\n",
       "       [-5.10332865e-01, -6.58746472e-01],\n",
       "       [-9.65001685e-01, -4.92422824e-01],\n",
       "       [ 2.55629738e+00,  1.75509095e+00],\n",
       "       [-2.11253453e-01, -4.87449292e-01],\n",
       "       [ 7.12050184e-01,  1.37407453e+00],\n",
       "       [ 1.54533373e-01,  3.32400139e-01],\n",
       "       [-2.57868937e-01, -7.53441820e-01],\n",
       "       [ 1.08660158e-01,  3.94170679e-01],\n",
       "       [-9.10446066e-01, -1.05688871e+00],\n",
       "       [-2.25111858e-01,  2.48759417e-01],\n",
       "       [ 4.02801523e-01,  8.28476922e-01],\n",
       "       [-8.24020157e-01, -9.26060335e-01],\n",
       "       [-3.16889674e-01,  2.78434315e-01],\n",
       "       [ 2.55787758e-01,  3.65868497e-01],\n",
       "       [ 6.54840216e-02,  4.49098782e-01],\n",
       "       [ 2.14029272e+00,  2.28881913e+00],\n",
       "       [-2.61222262e+00, -1.76664818e+00],\n",
       "       [ 7.55406747e-01,  1.01709531e-01],\n",
       "       [ 8.51512179e-01,  9.48602989e-02],\n",
       "       [-2.27675544e+00, -1.83842084e+00],\n",
       "       [-3.54675682e-01, -2.61590820e-01],\n",
       "       [-2.25359044e-01,  2.73549530e-02],\n",
       "       [-1.23450970e+00, -6.40082829e-01],\n",
       "       [-4.29668140e-01,  1.39846568e-01],\n",
       "       [-1.05097061e+00, -6.55338346e-01],\n",
       "       [ 2.21031541e+00,  2.11298971e+00],\n",
       "       [ 7.90438233e-01,  3.66424610e-01],\n",
       "       [ 2.22769810e+00,  2.75237460e+00],\n",
       "       [ 9.20441479e-01,  8.90019812e-01],\n",
       "       [-1.39444556e+00, -1.30335056e+00],\n",
       "       [-8.99761125e-01, -1.09789533e+00],\n",
       "       [ 6.45960672e-01,  6.46135118e-01],\n",
       "       [-1.24559017e+00, -8.95210587e-01],\n",
       "       [ 9.45279638e-01,  9.49486596e-01],\n",
       "       [-5.12343181e-02,  2.02534236e-01],\n",
       "       [-3.83624854e-01, -2.77699979e-01],\n",
       "       [ 3.58761593e-01, -1.94225655e-01],\n",
       "       [-1.45003574e-01, -8.42896991e-01],\n",
       "       [-5.10413461e-01, -5.42941698e-01],\n",
       "       [ 1.42294714e+00,  1.32092135e+00],\n",
       "       [-9.47595675e-01, -4.90472409e-01],\n",
       "       [ 1.18999643e-01, -5.43138162e-01],\n",
       "       [ 6.28733056e-01,  4.81832489e-01],\n",
       "       [-1.49973411e-01,  9.67373855e-02],\n",
       "       [-2.09807392e-02, -4.51735988e-01],\n",
       "       [-1.13187536e+00, -6.36463911e-01],\n",
       "       [ 9.00287207e-01,  5.95785044e-01],\n",
       "       [-6.03877338e-01, -9.47340566e-01],\n",
       "       [-3.62954533e-01, -5.10343909e-02],\n",
       "       [ 1.20734438e+00,  1.03848915e+00],\n",
       "       [-2.63983482e-01,  3.71125623e-01],\n",
       "       [-9.44353159e-01, -7.18105868e-02],\n",
       "       [-1.99590207e+00, -1.94033489e+00],\n",
       "       [ 2.24889229e-01, -3.23689249e-01],\n",
       "       [-1.02442113e+00, -3.89537200e-01],\n",
       "       [ 1.86074138e+00,  1.42661063e+00],\n",
       "       [-1.78641405e+00, -8.69352917e-01],\n",
       "       [ 3.05584785e+00,  3.83577411e+00],\n",
       "       [ 4.14438725e-01,  5.44215792e-01],\n",
       "       [ 3.33368351e-01,  7.73329044e-01],\n",
       "       [-1.60750438e-01,  3.72103077e-01],\n",
       "       [ 6.23436571e-01,  7.15760671e-01],\n",
       "       [-1.53860830e-01, -2.53305511e-01],\n",
       "       [ 1.33318931e+00,  1.21606190e+00],\n",
       "       [-1.80856188e-01, -4.97320024e-01],\n",
       "       [ 5.41959658e-02, -8.33703608e-02],\n",
       "       [-5.27479453e-01, -5.72962712e-01],\n",
       "       [-2.34738693e-02,  2.58403932e-02],\n",
       "       [ 1.15956404e+00,  1.87858419e+00],\n",
       "       [-2.32524728e+00, -2.39063363e+00],\n",
       "       [-1.02470720e+00, -3.04764339e-01],\n",
       "       [ 1.02605014e-01, -7.35536892e-01],\n",
       "       [-1.43132006e-02, -2.43161223e-01],\n",
       "       [ 2.32940096e-01,  6.86962055e-01],\n",
       "       [ 4.16008499e-02,  5.80882150e-02],\n",
       "       [-7.32077573e-02, -5.80819911e-01],\n",
       "       [-7.81067186e-01, -8.46729694e-01],\n",
       "       [-4.85408816e-01,  3.15227079e-02],\n",
       "       [-8.73587192e-02, -4.17379526e-01],\n",
       "       [-8.49080571e-01, -4.27264788e-01],\n",
       "       [ 4.05200218e-01,  2.77762287e-01],\n",
       "       [-1.86272106e+00, -1.49623363e+00],\n",
       "       [ 1.78142606e+00,  2.18546684e+00],\n",
       "       [ 6.86733294e-01,  7.46949376e-01],\n",
       "       [-5.15086014e-01, -1.32911773e+00],\n",
       "       [ 1.00409300e+00,  7.24779724e-01],\n",
       "       [ 1.33552480e+00,  5.12626723e-01],\n",
       "       [ 1.28364662e+00,  1.23123728e+00],\n",
       "       [-2.04697628e+00, -1.68217536e+00],\n",
       "       [-1.25948553e+00, -8.50015987e-01],\n",
       "       [-4.04885965e-01, -4.40531372e-03],\n",
       "       [ 3.49065188e-01,  6.49347186e-01],\n",
       "       [ 4.25866777e-02, -5.68708734e-01],\n",
       "       [-8.15259159e-01, -6.79325569e-01],\n",
       "       [-3.24238338e-04, -2.35847582e-01],\n",
       "       [-9.62851369e-01, -9.30449442e-01],\n",
       "       [ 7.98547170e-02,  9.26211487e-01],\n",
       "       [-1.18565093e+00, -5.45665441e-01],\n",
       "       [-1.34998268e+00, -1.47566083e+00],\n",
       "       [-9.41289770e-01, -1.37328072e-01],\n",
       "       [-1.32944029e-01,  9.69190677e-01],\n",
       "       [ 1.38841199e+00,  1.38652992e+00],\n",
       "       [-1.47167211e+00, -1.68053531e+00],\n",
       "       [ 2.32127820e+00,  1.22144145e+00],\n",
       "       [ 9.43513438e-01,  1.22270023e+00],\n",
       "       [-8.93242586e-02, -4.07356048e-01],\n",
       "       [-6.49824840e-01, -1.88990035e-01],\n",
       "       [ 9.55926152e-01,  9.86273885e-01],\n",
       "       [-8.94439766e-01, -1.02311796e+00],\n",
       "       [ 9.37018424e-02,  2.94700107e-02],\n",
       "       [ 1.21992434e+00, -8.39971728e-01],\n",
       "       [-4.74999790e-01, -8.07352621e-01],\n",
       "       [ 9.98033688e-01,  5.03143871e-01],\n",
       "       [-1.13586475e+00, -1.33433226e+00],\n",
       "       [ 5.78139465e-01,  1.17396903e+00],\n",
       "       [ 1.14788018e+00,  1.32499997e-02],\n",
       "       [-7.60880866e-01, -6.97449047e-01],\n",
       "       [ 1.77208837e+00,  1.18073902e+00],\n",
       "       [ 1.21268456e+00,  1.47870502e+00],\n",
       "       [-1.07253319e+00, -1.38776790e+00],\n",
       "       [ 1.03689057e+00,  1.23002508e+00],\n",
       "       [ 9.28454121e-01,  5.89718511e-01],\n",
       "       [ 2.23549260e-01, -3.46206577e-01],\n",
       "       [-1.31975882e+00, -6.01771407e-01],\n",
       "       [-6.16743874e-01, -2.89596348e-01],\n",
       "       [-4.60124808e-01, -5.87534249e-01],\n",
       "       [-4.46212447e-02,  6.53449950e-03],\n",
       "       [ 4.45766442e-01,  8.95233985e-02],\n",
       "       [ 2.11459684e-01,  1.89476221e-01],\n",
       "       [-1.02153648e+00, -3.14739587e-01],\n",
       "       [ 9.55486463e-01,  1.38856337e+00],\n",
       "       [ 1.16881039e-01, -5.40541109e-01],\n",
       "       [ 1.33110736e+00,  1.89649081e+00],\n",
       "       [ 2.96378501e-01, -7.81897892e-01],\n",
       "       [ 7.35972115e-01,  3.88128803e-01],\n",
       "       [ 6.56897467e-01,  7.05536681e-01],\n",
       "       [ 3.85351818e-02,  1.63679046e-01],\n",
       "       [-1.81232527e+00, -1.45016063e+00],\n",
       "       [ 3.30494055e-01,  1.04850365e-01],\n",
       "       [ 1.28030268e-02, -2.36539701e-01],\n",
       "       [ 3.74531397e-02, -2.68828457e-01],\n",
       "       [-8.95613066e-01, -1.42432779e-01],\n",
       "       [-8.94059296e-01, -3.85850497e-01],\n",
       "       [ 7.41725042e-01,  1.23273265e-01],\n",
       "       [ 2.99330594e-01,  6.34821630e-01],\n",
       "       [ 7.63008462e-01,  6.32927562e-01],\n",
       "       [ 3.31372160e-01,  6.11963183e-01],\n",
       "       [ 2.64110849e-01,  4.78698263e-01],\n",
       "       [ 5.81547948e-01, -4.51077648e-02],\n",
       "       [-7.00421379e-01, -7.18983683e-01],\n",
       "       [ 3.71274833e-01,  6.04557910e-01],\n",
       "       [-2.10883579e-01,  1.70042313e-01],\n",
       "       [-4.20910265e-01, -2.75414693e-01],\n",
       "       [-2.49990549e-01, -9.92055810e-02],\n",
       "       [ 6.89722517e-01,  1.06822523e+00],\n",
       "       [-6.76720382e-01, -7.19633597e-01],\n",
       "       [ 1.39877523e+00,  1.15224103e+00],\n",
       "       [-9.26245221e-01, -6.83568048e-01],\n",
       "       [-2.59191889e-01, -2.71213617e-01],\n",
       "       [-6.52259534e-03,  5.41049270e-01],\n",
       "       [ 1.68481411e+00,  1.47044535e+00],\n",
       "       [ 4.91559434e-01,  7.13153310e-01],\n",
       "       [ 1.46994355e+00,  1.57332507e+00],\n",
       "       [-1.40447672e+00, -8.73968636e-01],\n",
       "       [ 5.09307255e-01,  6.59057351e-01],\n",
       "       [ 7.29577377e-01,  3.05471637e-01],\n",
       "       [ 1.99641870e-01,  2.86547814e-01],\n",
       "       [ 9.64223641e-01,  5.42594939e-01],\n",
       "       [-4.55464650e-01, -2.38678661e-01],\n",
       "       [ 1.56279696e+00,  1.27936914e+00],\n",
       "       [ 1.87913886e+00,  7.77322283e-01],\n",
       "       [ 4.38727169e-01,  1.31439843e+00],\n",
       "       [-8.00339490e-01, -1.00310249e+00],\n",
       "       [ 9.26991068e-01, -1.86977608e-02],\n",
       "       [ 1.93548082e+00,  1.79335441e+00],\n",
       "       [-2.00581069e-01,  2.66477705e-01],\n",
       "       [-1.65719708e-01,  2.05303522e-01],\n",
       "       [-3.25560573e-02,  2.91252359e-01],\n",
       "       [-1.28277524e+00, -8.13831269e-01],\n",
       "       [-1.20943331e+00, -1.20674355e+00],\n",
       "       [-9.26259144e-01, -5.45648912e-01],\n",
       "       [-9.83580357e-01, -9.55326797e-01],\n",
       "       [ 3.32246042e-01,  6.93017335e-01],\n",
       "       [ 1.67592408e-01,  3.25695244e-02],\n",
       "       [ 1.16490118e+00,  3.23961328e-01],\n",
       "       [-1.06952136e+00, -8.32925606e-01],\n",
       "       [ 1.09046878e+00,  8.91536278e-01],\n",
       "       [-4.14579717e-01, -5.40749195e-01],\n",
       "       [-3.54980381e-01, -6.31472218e-01],\n",
       "       [ 7.32831183e-01,  5.82363977e-01],\n",
       "       [-9.75638079e-01, -4.92813018e-01],\n",
       "       [ 1.73691859e-01, -1.42146494e-01],\n",
       "       [-1.81742473e-02, -2.45149159e-01],\n",
       "       [ 5.55092473e-01,  4.64669276e-01],\n",
       "       [-2.67448915e-01, -8.86875703e-01],\n",
       "       [ 1.80713732e+00,  4.39631304e-01],\n",
       "       [-8.75394711e-01, -9.07685270e-01],\n",
       "       [-5.84770923e-01, -4.74127854e-01],\n",
       "       [-4.75981257e-01, -1.45465909e-01],\n",
       "       [ 2.44800488e-02,  7.47410723e-01],\n",
       "       [-2.84745123e-01,  2.46224437e-01],\n",
       "       [ 1.07051163e+00,  5.94740799e-01],\n",
       "       [ 1.34337138e+00,  8.36477171e-01],\n",
       "       [-9.18104134e-01, -1.07552753e+00],\n",
       "       [-7.98266264e-01, -5.11848229e-01],\n",
       "       [ 3.40067273e-01,  7.09205475e-02],\n",
       "       [-4.04135301e-01, -9.43649796e-02],\n",
       "       [ 2.91906158e-01, -2.26618037e-01],\n",
       "       [ 3.87437924e-01,  5.01640090e-01],\n",
       "       [-8.66967400e-01,  2.14542524e-01],\n",
       "       [ 1.43050030e+00,  8.46815348e-01],\n",
       "       [ 1.85782375e+00,  1.36916795e+00],\n",
       "       [-3.24100362e-01,  1.38330072e-01],\n",
       "       [-5.18866583e-01, -5.25791783e-01],\n",
       "       [ 3.55707941e-01,  3.35170081e-01],\n",
       "       [ 3.22689214e-01,  2.09442956e-01],\n",
       "       [ 6.62671079e-01,  4.65741428e-01],\n",
       "       [ 1.62160704e+00,  6.37587523e-01],\n",
       "       [-1.59046217e-01, -8.79896599e-02],\n",
       "       [-5.72432272e-01, -1.13375686e-01],\n",
       "       [-7.67827024e-01,  2.36487171e-01],\n",
       "       [-3.35620237e-01,  2.64602963e-01],\n",
       "       [ 7.74958926e-01,  1.55628477e+00],\n",
       "       [ 1.41870939e+00,  5.12633523e-01],\n",
       "       [-1.65381392e-01,  3.28661026e-01],\n",
       "       [ 2.81427344e-01,  2.68177793e-01],\n",
       "       [ 8.04555569e-01,  1.59309077e+00],\n",
       "       [ 8.27082351e-01,  1.19772268e-01],\n",
       "       [ 2.08788129e+00,  8.98098234e-01],\n",
       "       [-7.29201130e-01, -7.56560880e-01],\n",
       "       [-1.26080124e+00, -1.84768588e+00],\n",
       "       [ 7.95782336e-01,  2.40246277e-01],\n",
       "       [ 3.63958357e-01, -1.47460384e-01],\n",
       "       [ 1.81201958e+00,  1.21563435e+00],\n",
       "       [ 6.83150203e-01,  5.99736866e-01],\n",
       "       [ 3.61117118e-01,  1.15825243e+00],\n",
       "       [ 9.17515855e-01,  1.04930502e+00],\n",
       "       [ 8.37986792e-01,  2.41444824e-01],\n",
       "       [ 4.43551810e-01, -1.66445478e-01],\n",
       "       [ 6.66516144e-01,  6.63765756e-01],\n",
       "       [ 5.19622585e-01, -3.27828857e-01],\n",
       "       [ 1.79762083e+00,  2.04062545e+00],\n",
       "       [ 1.75578597e+00,  1.69078423e+00],\n",
       "       [ 4.41012666e-01,  4.49219430e-02],\n",
       "       [-8.00519160e-01, -1.35405075e+00],\n",
       "       [ 6.46562321e-01,  1.07885777e+00],\n",
       "       [ 1.10414557e+00,  6.38444356e-01],\n",
       "       [-3.13060561e-01,  4.17008571e-01],\n",
       "       [-2.46674136e-01, -9.46401983e-01],\n",
       "       [-5.98442828e-01, -6.74214503e-01],\n",
       "       [ 2.92920903e-02,  2.10466886e-02],\n",
       "       [ 1.23303859e+00,  7.99745564e-01],\n",
       "       [ 1.31130427e-02, -2.15042120e-01],\n",
       "       [ 2.77430178e-01,  4.83722011e-01],\n",
       "       [-1.69270137e+00, -1.59558110e+00],\n",
       "       [ 6.56147112e-01,  3.42530108e-01],\n",
       "       [ 6.58726586e-01,  4.74480255e-01],\n",
       "       [ 2.24931520e+00,  1.67161690e+00],\n",
       "       [-2.60808502e-02,  3.36643728e-01],\n",
       "       [-2.12874231e-01, -6.92034995e-01],\n",
       "       [-3.37494668e-01, -9.73666621e-01],\n",
       "       [ 1.97824863e+00,  1.87960748e+00],\n",
       "       [ 3.38661036e-02,  1.86202365e-01],\n",
       "       [-1.50684800e-02, -3.80849007e-01],\n",
       "       [ 1.15890455e+00,  1.49935625e+00],\n",
       "       [ 2.20736754e-01,  1.96388266e-01],\n",
       "       [ 1.72632833e-02,  5.95977123e-01],\n",
       "       [ 2.09812513e-01,  1.65616740e-01],\n",
       "       [ 1.79254984e+00,  2.15119375e+00],\n",
       "       [-3.18477213e-01,  6.70366769e-01],\n",
       "       [ 3.31691098e-02, -1.02636825e-01],\n",
       "       [-3.01722576e-01,  2.92050784e-01],\n",
       "       [ 1.37786711e+00,  1.18783609e+00],\n",
       "       [-9.35508155e-01,  8.99612451e-02],\n",
       "       [-8.92777544e-01, -1.04092143e+00],\n",
       "       [ 6.15574522e-01,  7.28006602e-01],\n",
       "       [ 1.88478852e+00,  1.71197455e+00],\n",
       "       [-7.21228210e-01, -1.32674860e+00],\n",
       "       [-9.71013917e-01, -1.19851297e+00],\n",
       "       [ 1.02466868e+00, -3.66534960e-01],\n",
       "       [-1.47755120e+00, -1.06406998e+00],\n",
       "       [-1.82168792e+00, -7.91097257e-01],\n",
       "       [ 9.81021022e-01,  1.36313464e+00],\n",
       "       [-4.49558666e-01, -2.46322091e-01],\n",
       "       [-3.60918789e-01,  5.80767023e-01],\n",
       "       [ 1.56541244e-01, -5.86162309e-01],\n",
       "       [-4.06200235e-01, -1.10091226e+00],\n",
       "       [-5.57082466e-01, -3.78351037e-01],\n",
       "       [-1.07335579e+00, -4.85331509e-01],\n",
       "       [ 8.17212169e-01,  4.98371624e-01],\n",
       "       [-1.56184448e-01, -1.12410664e+00],\n",
       "       [-1.27666943e-01, -1.24607801e-01],\n",
       "       [ 1.26704805e+00,  1.50641133e-01],\n",
       "       [-7.66525660e-01, -1.50419075e-01],\n",
       "       [-1.31303285e+00, -6.44920891e-01],\n",
       "       [-1.00982959e+00, -1.10220295e+00],\n",
       "       [-2.35803054e-01, -4.03437926e-01],\n",
       "       [-1.65371663e-01, -6.29660655e-01],\n",
       "       [-2.52822408e-01, -1.90298732e-01],\n",
       "       [ 6.92443220e-01,  9.09919342e-01],\n",
       "       [-1.55905039e+00, -1.47079019e+00],\n",
       "       [ 1.56139331e+00,  1.23328093e+00],\n",
       "       [-2.76705052e-01, -4.37325864e-01],\n",
       "       [ 7.65266447e-01,  8.85005191e-02],\n",
       "       [ 2.85746726e-01,  1.26829861e-01],\n",
       "       [ 4.65020375e-02, -4.84351918e-01],\n",
       "       [ 3.34322028e-01, -6.41719211e-02],\n",
       "       [-2.30103951e-02, -6.08814833e-01],\n",
       "       [ 1.34691411e+00,  1.82293833e+00],\n",
       "       [ 1.27685194e+00,  8.21521145e-01],\n",
       "       [-7.52397874e-02, -3.94545767e-01],\n",
       "       [ 7.54204077e-01,  5.81083113e-01],\n",
       "       [-1.27384369e-01, -1.35944487e-01],\n",
       "       [ 1.28637806e+00,  7.00389981e-01],\n",
       "       [-4.13025769e-01,  4.46383134e-02],\n",
       "       [ 1.99589686e+00,  1.63263932e+00],\n",
       "       [-2.36872701e-01, -4.12364524e-01],\n",
       "       [-1.57592539e+00, -1.27804112e+00],\n",
       "       [ 1.87728046e-02, -1.24645381e-01],\n",
       "       [-1.50964738e+00, -2.09270970e+00],\n",
       "       [ 2.31712008e-01, -6.05852285e-01],\n",
       "       [-1.08509703e-01,  6.09844801e-01],\n",
       "       [ 1.91913430e-01,  9.36994903e-01],\n",
       "       [-1.88968739e+00, -1.31348246e+00],\n",
       "       [-2.14070375e-01,  1.51259189e-01],\n",
       "       [-2.18784108e+00, -1.22324270e+00],\n",
       "       [-3.52674690e-01,  1.30550524e+00],\n",
       "       [ 1.14226281e+00,  1.27475074e+00],\n",
       "       [ 6.99161183e-01,  3.76791030e-01],\n",
       "       [ 4.66003606e-02, -4.44746035e-01],\n",
       "       [-1.52099665e+00, -1.75479745e+00],\n",
       "       [ 3.08454255e-02,  1.20371341e-01],\n",
       "       [-2.86708683e-01, -5.55800854e-01],\n",
       "       [-1.63396496e+00, -1.73454595e+00],\n",
       "       [ 1.18713479e+00,  4.26734714e-01],\n",
       "       [ 4.29037764e-01, -2.66446207e-01],\n",
       "       [ 4.21828427e-01,  1.10269538e+00],\n",
       "       [ 3.55770211e-01,  6.61450397e-01],\n",
       "       [ 1.95126443e-01,  1.18914211e-01],\n",
       "       [-1.38680810e+00, -1.38991758e-01],\n",
       "       [-2.06017539e-01, -9.13417047e-02],\n",
       "       [-9.70957668e-01, -1.03873047e+00],\n",
       "       [-3.81783400e-01,  5.15289280e-01],\n",
       "       [-6.54026382e-02,  2.26195812e-01],\n",
       "       [ 1.32059600e+00,  3.16942390e-01],\n",
       "       [ 5.37969005e-01,  2.44319257e-01],\n",
       "       [-8.70982202e-01, -9.82888405e-01],\n",
       "       [ 2.64486663e-02, -6.69419486e-01],\n",
       "       [ 1.67727788e+00,  1.51569236e+00],\n",
       "       [ 1.59421561e+00,  1.95122121e+00],\n",
       "       [-4.67128220e-01, -9.88044764e-01],\n",
       "       [-4.04197485e-01,  2.47958800e-02]])"
      ]
     },
     "execution_count": 3,
     "metadata": {},
     "output_type": "execute_result"
    }
   ],
   "source": [
    "X"
   ]
  },
  {
   "cell_type": "code",
   "execution_count": 4,
   "id": "84b5435a",
   "metadata": {},
   "outputs": [],
   "source": [
    "X [:, 0] = -X[:,0]"
   ]
  },
  {
   "cell_type": "code",
   "execution_count": 5,
   "id": "8060b22e",
   "metadata": {
    "scrolled": true
   },
   "outputs": [
    {
     "data": {
      "image/png": "[encoded data removed]",
      "text/plain": [
       "<Figure size 432x288 with 1 Axes>"
      ]
     },
     "metadata": {},
     "output_type": "display_data"
    }
   ],
   "source": [
    "plt.scatter(X[:,0], X[:,1])\n",
    "plt.axis('equal');"
   ]
  },
  {
   "cell_type": "code",
   "execution_count": 6,
   "id": "a8d0c516",
   "metadata": {},
   "outputs": [],
   "source": [
    "from sklearn.decomposition import PCA\n"
   ]
  },
  {
   "cell_type": "code",
   "execution_count": 7,
   "id": "816057ed",
   "metadata": {},
   "outputs": [
    {
     "data": {
      "text/plain": [
       "PCA(n_components=2)"
      ]
     },
     "execution_count": 7,
     "metadata": {},
     "output_type": "execute_result"
    }
   ],
   "source": [
    "pca = PCA(n_components=2)\n",
    "pca.fit(X)"
   ]
  },
  {
   "cell_type": "code",
   "execution_count": 13,
   "id": "02282071",
   "metadata": {},
   "outputs": [
    {
     "name": "stdout",
     "output_type": "stream",
     "text": [
      "[[ 0.74020138 -0.67238524]\n",
      " [ 0.67238524  0.74020138]]\n"
     ]
    }
   ],
   "source": [
    "print(pca.components_)\n",
    "# Why 2 by 2 matrix"
   ]
  },
  {
   "cell_type": "code",
   "execution_count": 14,
   "id": "1bf13a31",
   "metadata": {},
   "outputs": [
    {
     "name": "stdout",
     "output_type": "stream",
     "text": [
      "[1.83472322 0.12289657]\n"
     ]
    }
   ],
   "source": [
    "print(pca.explained_variance_)"
   ]
  },
  {
   "cell_type": "code",
   "execution_count": 15,
   "id": "afc43e3a",
   "metadata": {},
   "outputs": [
    {
     "name": "stdout",
     "output_type": "stream",
     "text": [
      "[0.93722143 0.06277857]\n"
     ]
    }
   ],
   "source": [
    "print(pca.explained_variance_ratio_)"
   ]
  },
  {
   "cell_type": "code",
   "execution_count": 16,
   "id": "36d548ab",
   "metadata": {},
   "outputs": [
    {
     "data": {
      "image/png": "[encoded data removed]",
      "text/plain": [
       "<Figure size 432x288 with 1 Axes>"
      ]
     },
     "metadata": {},
     "output_type": "display_data"
    }
   ],
   "source": [
    "plt.scatter(X[:,0], X[:,1], alpha= 0.3)\n",
    "for k, v in zip(pca.explained_variance_, pca.components_):\n",
    "    vec = v * 3 * np.sqrt(k)\n",
    "    \n",
    "    ax = plt.gca()\n",
    "    arrowprops=dict(arrowstyle='<-',\n",
    "                    linewidth=1,\n",
    "                    shrinkA=0, shrinkB=0)\n",
    "    ax.annotate('', pca.mean_, pca.mean_ + vec, arrowprops=arrowprops)\n",
    "    ax.text(-0.90, 1.2,'PC1', ha='center', va='center', rotation=-42, size=12)\n",
    "    ax.text(-0.1,-0.6,'PC2', ha='center', va='center', rotation=50, size=12)\n",
    "plt.axis('equal');"
   ]
  },
  {
   "cell_type": "markdown",
   "id": "38933a88",
   "metadata": {},
   "source": [
    "# Dimentionality Reduction with PCA"
   ]
  },
  {
   "cell_type": "code",
   "execution_count": 17,
   "id": "b26a41c8",
   "metadata": {},
   "outputs": [],
   "source": [
    "pca = PCA(n_components=1)\n",
    "pca.fit(X)\n",
    "X_pca = pca.transform(X)"
   ]
  },
  {
   "cell_type": "code",
   "execution_count": 18,
   "id": "d8738164",
   "metadata": {},
   "outputs": [
    {
     "data": {
      "text/plain": [
       "(5000, 2)"
      ]
     },
     "execution_count": 18,
     "metadata": {},
     "output_type": "execute_result"
    }
   ],
   "source": [
    "X.shape"
   ]
  },
  {
   "cell_type": "code",
   "execution_count": 19,
   "id": "2f399cf7",
   "metadata": {},
   "outputs": [
    {
     "data": {
      "text/plain": [
       "(5000, 1)"
      ]
     },
     "execution_count": 19,
     "metadata": {},
     "output_type": "execute_result"
    }
   ],
   "source": [
    "X_pca.shape"
   ]
  },
  {
   "cell_type": "code",
   "execution_count": 20,
   "id": "29905602",
   "metadata": {},
   "outputs": [
    {
     "data": {
      "text/plain": [
       "(-3.725889312431627,\n",
       " 4.3780452031679165,\n",
       " -4.044143206309595,\n",
       " 3.7314809529607915)"
      ]
     },
     "execution_count": 20,
     "metadata": {},
     "output_type": "execute_result"
    },
    {
     "data": {
      "image/png": "[encoded data removed]",
      "text/plain": [
       "<Figure size 432x288 with 1 Axes>"
      ]
     },
     "metadata": {},
     "output_type": "display_data"
    }
   ],
   "source": [
    "X_new = pca.inverse_transform(X_pca)\n",
    "plt.scatter(X[:,0], X[:,1], alpha = 0.2)\n",
    "plt.scatter(X_new[:,0], X_new[:,1], alpha=0.8)\n",
    "plt.axis('equal')"
   ]
  },
  {
   "cell_type": "markdown",
   "id": "5c030531",
   "metadata": {},
   "source": [
    "# Dimentionality Reduction by Extracting Principal Components\n"
   ]
  },
  {
   "cell_type": "code",
   "execution_count": 9,
   "id": "1f675026",
   "metadata": {},
   "outputs": [],
   "source": [
    "import numpy as np\n",
    "import matplotlib.pyplot as plt\n",
    "%matplotlib inline\n",
    "import pandas as pd\n",
    "import seaborn as sns\n",
    "sns.set()"
   ]
  },
  {
   "cell_type": "code",
   "execution_count": 10,
   "id": "9219e09e",
   "metadata": {},
   "outputs": [
    {
     "data": {
      "text/plain": [
       "(178, 14)"
      ]
     },
     "execution_count": 10,
     "metadata": {},
     "output_type": "execute_result"
    }
   ],
   "source": [
    "df = pd.read_csv('wine.data', names=['class','Alcohol', 'Malic acid ','Ash ','Alcalinity of ash','Magnesium', 'Total phenols', 'Flavanoids','Nonflavanoid phenol','Proanthocyanins',\n",
    "'Color intensity','Hue','OD280/OD315 of diluted wines','Proline'])\n",
    "df.shape"
   ]
  },
  {
   "cell_type": "code",
   "execution_count": 11,
   "id": "3dc9a159",
   "metadata": {},
   "outputs": [
    {
     "data": {
      "text/html": [
       "<div>\n",
       "<style scoped>\n",
       "    .dataframe tbody tr th:only-of-type {\n",
       "        vertical-align: middle;\n",
       "    }\n",
       "\n",
       "    .dataframe tbody tr th {\n",
       "        vertical-align: top;\n",
       "    }\n",
       "\n",
       "    .dataframe thead th {\n",
       "        text-align: right;\n",
       "    }\n",
       "</style>\n",
       "<table border=\"1\" class=\"dataframe\">\n",
       "  <thead>\n",
       "    <tr style=\"text-align: right;\">\n",
       "      <th></th>\n",
       "      <th>class</th>\n",
       "      <th>Alcohol</th>\n",
       "      <th>Malic acid</th>\n",
       "      <th>Ash</th>\n",
       "      <th>Alcalinity of ash</th>\n",
       "      <th>Magnesium</th>\n",
       "      <th>Total phenols</th>\n",
       "      <th>Flavanoids</th>\n",
       "      <th>Nonflavanoid phenol</th>\n",
       "      <th>Proanthocyanins</th>\n",
       "      <th>Color intensity</th>\n",
       "      <th>Hue</th>\n",
       "      <th>OD280/OD315 of diluted wines</th>\n",
       "      <th>Proline</th>\n",
       "    </tr>\n",
       "  </thead>\n",
       "  <tbody>\n",
       "    <tr>\n",
       "      <th>0</th>\n",
       "      <td>1</td>\n",
       "      <td>14.23</td>\n",
       "      <td>1.71</td>\n",
       "      <td>2.43</td>\n",
       "      <td>15.6</td>\n",
       "      <td>127</td>\n",
       "      <td>2.80</td>\n",
       "      <td>3.06</td>\n",
       "      <td>0.28</td>\n",
       "      <td>2.29</td>\n",
       "      <td>5.64</td>\n",
       "      <td>1.04</td>\n",
       "      <td>3.92</td>\n",
       "      <td>1065</td>\n",
       "    </tr>\n",
       "    <tr>\n",
       "      <th>1</th>\n",
       "      <td>1</td>\n",
       "      <td>13.20</td>\n",
       "      <td>1.78</td>\n",
       "      <td>2.14</td>\n",
       "      <td>11.2</td>\n",
       "      <td>100</td>\n",
       "      <td>2.65</td>\n",
       "      <td>2.76</td>\n",
       "      <td>0.26</td>\n",
       "      <td>1.28</td>\n",
       "      <td>4.38</td>\n",
       "      <td>1.05</td>\n",
       "      <td>3.40</td>\n",
       "      <td>1050</td>\n",
       "    </tr>\n",
       "    <tr>\n",
       "      <th>2</th>\n",
       "      <td>1</td>\n",
       "      <td>13.16</td>\n",
       "      <td>2.36</td>\n",
       "      <td>2.67</td>\n",
       "      <td>18.6</td>\n",
       "      <td>101</td>\n",
       "      <td>2.80</td>\n",
       "      <td>3.24</td>\n",
       "      <td>0.30</td>\n",
       "      <td>2.81</td>\n",
       "      <td>5.68</td>\n",
       "      <td>1.03</td>\n",
       "      <td>3.17</td>\n",
       "      <td>1185</td>\n",
       "    </tr>\n",
       "    <tr>\n",
       "      <th>3</th>\n",
       "      <td>1</td>\n",
       "      <td>14.37</td>\n",
       "      <td>1.95</td>\n",
       "      <td>2.50</td>\n",
       "      <td>16.8</td>\n",
       "      <td>113</td>\n",
       "      <td>3.85</td>\n",
       "      <td>3.49</td>\n",
       "      <td>0.24</td>\n",
       "      <td>2.18</td>\n",
       "      <td>7.80</td>\n",
       "      <td>0.86</td>\n",
       "      <td>3.45</td>\n",
       "      <td>1480</td>\n",
       "    </tr>\n",
       "    <tr>\n",
       "      <th>4</th>\n",
       "      <td>1</td>\n",
       "      <td>13.24</td>\n",
       "      <td>2.59</td>\n",
       "      <td>2.87</td>\n",
       "      <td>21.0</td>\n",
       "      <td>118</td>\n",
       "      <td>2.80</td>\n",
       "      <td>2.69</td>\n",
       "      <td>0.39</td>\n",
       "      <td>1.82</td>\n",
       "      <td>4.32</td>\n",
       "      <td>1.04</td>\n",
       "      <td>2.93</td>\n",
       "      <td>735</td>\n",
       "    </tr>\n",
       "    <tr>\n",
       "      <th>...</th>\n",
       "      <td>...</td>\n",
       "      <td>...</td>\n",
       "      <td>...</td>\n",
       "      <td>...</td>\n",
       "      <td>...</td>\n",
       "      <td>...</td>\n",
       "      <td>...</td>\n",
       "      <td>...</td>\n",
       "      <td>...</td>\n",
       "      <td>...</td>\n",
       "      <td>...</td>\n",
       "      <td>...</td>\n",
       "      <td>...</td>\n",
       "      <td>...</td>\n",
       "    </tr>\n",
       "    <tr>\n",
       "      <th>75</th>\n",
       "      <td>2</td>\n",
       "      <td>11.66</td>\n",
       "      <td>1.88</td>\n",
       "      <td>1.92</td>\n",
       "      <td>16.0</td>\n",
       "      <td>97</td>\n",
       "      <td>1.61</td>\n",
       "      <td>1.57</td>\n",
       "      <td>0.34</td>\n",
       "      <td>1.15</td>\n",
       "      <td>3.80</td>\n",
       "      <td>1.23</td>\n",
       "      <td>2.14</td>\n",
       "      <td>428</td>\n",
       "    </tr>\n",
       "    <tr>\n",
       "      <th>76</th>\n",
       "      <td>2</td>\n",
       "      <td>13.03</td>\n",
       "      <td>0.90</td>\n",
       "      <td>1.71</td>\n",
       "      <td>16.0</td>\n",
       "      <td>86</td>\n",
       "      <td>1.95</td>\n",
       "      <td>2.03</td>\n",
       "      <td>0.24</td>\n",
       "      <td>1.46</td>\n",
       "      <td>4.60</td>\n",
       "      <td>1.19</td>\n",
       "      <td>2.48</td>\n",
       "      <td>392</td>\n",
       "    </tr>\n",
       "    <tr>\n",
       "      <th>77</th>\n",
       "      <td>2</td>\n",
       "      <td>11.84</td>\n",
       "      <td>2.89</td>\n",
       "      <td>2.23</td>\n",
       "      <td>18.0</td>\n",
       "      <td>112</td>\n",
       "      <td>1.72</td>\n",
       "      <td>1.32</td>\n",
       "      <td>0.43</td>\n",
       "      <td>0.95</td>\n",
       "      <td>2.65</td>\n",
       "      <td>0.96</td>\n",
       "      <td>2.52</td>\n",
       "      <td>500</td>\n",
       "    </tr>\n",
       "    <tr>\n",
       "      <th>78</th>\n",
       "      <td>2</td>\n",
       "      <td>12.33</td>\n",
       "      <td>0.99</td>\n",
       "      <td>1.95</td>\n",
       "      <td>14.8</td>\n",
       "      <td>136</td>\n",
       "      <td>1.90</td>\n",
       "      <td>1.85</td>\n",
       "      <td>0.35</td>\n",
       "      <td>2.76</td>\n",
       "      <td>3.40</td>\n",
       "      <td>1.06</td>\n",
       "      <td>2.31</td>\n",
       "      <td>750</td>\n",
       "    </tr>\n",
       "    <tr>\n",
       "      <th>79</th>\n",
       "      <td>2</td>\n",
       "      <td>12.70</td>\n",
       "      <td>3.87</td>\n",
       "      <td>2.40</td>\n",
       "      <td>23.0</td>\n",
       "      <td>101</td>\n",
       "      <td>2.83</td>\n",
       "      <td>2.55</td>\n",
       "      <td>0.43</td>\n",
       "      <td>1.95</td>\n",
       "      <td>2.57</td>\n",
       "      <td>1.19</td>\n",
       "      <td>3.13</td>\n",
       "      <td>463</td>\n",
       "    </tr>\n",
       "  </tbody>\n",
       "</table>\n",
       "<p>80 rows × 14 columns</p>\n",
       "</div>"
      ],
      "text/plain": [
       "    class  Alcohol  Malic acid   Ash   Alcalinity of ash  Magnesium  \\\n",
       "0       1    14.23         1.71  2.43               15.6        127   \n",
       "1       1    13.20         1.78  2.14               11.2        100   \n",
       "2       1    13.16         2.36  2.67               18.6        101   \n",
       "3       1    14.37         1.95  2.50               16.8        113   \n",
       "4       1    13.24         2.59  2.87               21.0        118   \n",
       "..    ...      ...          ...   ...                ...        ...   \n",
       "75      2    11.66         1.88  1.92               16.0         97   \n",
       "76      2    13.03         0.90  1.71               16.0         86   \n",
       "77      2    11.84         2.89  2.23               18.0        112   \n",
       "78      2    12.33         0.99  1.95               14.8        136   \n",
       "79      2    12.70         3.87  2.40               23.0        101   \n",
       "\n",
       "    Total phenols  Flavanoids  Nonflavanoid phenol  Proanthocyanins  \\\n",
       "0            2.80        3.06                 0.28             2.29   \n",
       "1            2.65        2.76                 0.26             1.28   \n",
       "2            2.80        3.24                 0.30             2.81   \n",
       "3            3.85        3.49                 0.24             2.18   \n",
       "4            2.80        2.69                 0.39             1.82   \n",
       "..            ...         ...                  ...              ...   \n",
       "75           1.61        1.57                 0.34             1.15   \n",
       "76           1.95        2.03                 0.24             1.46   \n",
       "77           1.72        1.32                 0.43             0.95   \n",
       "78           1.90        1.85                 0.35             2.76   \n",
       "79           2.83        2.55                 0.43             1.95   \n",
       "\n",
       "    Color intensity   Hue  OD280/OD315 of diluted wines  Proline  \n",
       "0              5.64  1.04                          3.92     1065  \n",
       "1              4.38  1.05                          3.40     1050  \n",
       "2              5.68  1.03                          3.17     1185  \n",
       "3              7.80  0.86                          3.45     1480  \n",
       "4              4.32  1.04                          2.93      735  \n",
       "..              ...   ...                           ...      ...  \n",
       "75             3.80  1.23                          2.14      428  \n",
       "76             4.60  1.19                          2.48      392  \n",
       "77             2.65  0.96                          2.52      500  \n",
       "78             3.40  1.06                          2.31      750  \n",
       "79             2.57  1.19                          3.13      463  \n",
       "\n",
       "[80 rows x 14 columns]"
      ]
     },
     "execution_count": 11,
     "metadata": {},
     "output_type": "execute_result"
    }
   ],
   "source": [
    "df.head(80)"
   ]
  },
  {
   "cell_type": "code",
   "execution_count": 12,
   "id": "b76f1fd2",
   "metadata": {},
   "outputs": [],
   "source": [
    "X = df.iloc[:,1:]"
   ]
  },
  {
   "cell_type": "code",
   "execution_count": 13,
   "id": "af5668bb",
   "metadata": {},
   "outputs": [],
   "source": [
    "y = df['class']"
   ]
  },
  {
   "cell_type": "code",
   "execution_count": 14,
   "id": "d30ba361",
   "metadata": {},
   "outputs": [],
   "source": [
    "from sklearn.model_selection import train_test_split\n",
    "X_train, X_test, y_train, y_test = train_test_split(X,y, test_size=0.2,\n",
    "                                                   random_state=42)"
   ]
  },
  {
   "cell_type": "code",
   "execution_count": 15,
   "id": "a62a057a",
   "metadata": {},
   "outputs": [],
   "source": [
    "from sklearn.preprocessing import StandardScaler\n",
    "sc = StandardScaler()"
   ]
  },
  {
   "cell_type": "code",
   "execution_count": 16,
   "id": "6cb432a7",
   "metadata": {},
   "outputs": [],
   "source": [
    "sc.fit(X_train)\n",
    "X_train_sc = sc.transform(X_train)\n",
    "X_test_sc = sc.transform(X_test)\n",
    "\n",
    "#X_train_sc = sc.fit_transform(X_train)\n",
    "#X_test_sc = sc.fit_transform(X_test) <<---wrong appraoch"
   ]
  },
  {
   "cell_type": "code",
   "execution_count": 17,
   "id": "9566d180",
   "metadata": {},
   "outputs": [
    {
     "data": {
      "text/plain": [
       "PCA(n_components=2)"
      ]
     },
     "execution_count": 17,
     "metadata": {},
     "output_type": "execute_result"
    }
   ],
   "source": [
    "pca = PCA(n_components = 2)\n",
    "pca.fit(X_test_sc)"
   ]
  },
  {
   "cell_type": "code",
   "execution_count": 18,
   "id": "0e7158b0",
   "metadata": {},
   "outputs": [
    {
     "data": {
      "text/plain": [
       "array([0.40627457, 0.2388514 ])"
      ]
     },
     "execution_count": 18,
     "metadata": {},
     "output_type": "execute_result"
    }
   ],
   "source": [
    " pca.explained_variance_ratio_"
   ]
  },
  {
   "cell_type": "code",
   "execution_count": 19,
   "id": "6b98cbe0",
   "metadata": {},
   "outputs": [
    {
     "name": "stdout",
     "output_type": "stream",
     "text": [
      "[0.406 0.239]\n"
     ]
    }
   ],
   "source": [
    "print(np.round(pca.explained_variance_ratio_, 3))"
   ]
  },
  {
   "cell_type": "code",
   "execution_count": 24,
   "id": "27166421",
   "metadata": {},
   "outputs": [
    {
     "data": {
      "text/html": [
       "<div>\n",
       "<style scoped>\n",
       "    .dataframe tbody tr th:only-of-type {\n",
       "        vertical-align: middle;\n",
       "    }\n",
       "\n",
       "    .dataframe tbody tr th {\n",
       "        vertical-align: top;\n",
       "    }\n",
       "\n",
       "    .dataframe thead th {\n",
       "        text-align: right;\n",
       "    }\n",
       "</style>\n",
       "<table border=\"1\" class=\"dataframe\">\n",
       "  <thead>\n",
       "    <tr style=\"text-align: right;\">\n",
       "      <th></th>\n",
       "      <th>0</th>\n",
       "      <th>1</th>\n",
       "      <th>2</th>\n",
       "      <th>3</th>\n",
       "      <th>4</th>\n",
       "      <th>5</th>\n",
       "      <th>6</th>\n",
       "      <th>7</th>\n",
       "      <th>8</th>\n",
       "      <th>9</th>\n",
       "      <th>10</th>\n",
       "      <th>11</th>\n",
       "      <th>12</th>\n",
       "    </tr>\n",
       "  </thead>\n",
       "  <tbody>\n",
       "    <tr>\n",
       "      <th>Alcohol</th>\n",
       "      <td>0.128</td>\n",
       "      <td>-0.493</td>\n",
       "      <td>-0.185</td>\n",
       "      <td>0.079</td>\n",
       "      <td>-0.310</td>\n",
       "      <td>-0.186</td>\n",
       "      <td>-0.042</td>\n",
       "      <td>0.492</td>\n",
       "      <td>-0.418</td>\n",
       "      <td>0.292</td>\n",
       "      <td>-0.133</td>\n",
       "      <td>-0.217</td>\n",
       "      <td>0.037</td>\n",
       "    </tr>\n",
       "    <tr>\n",
       "      <th>Malic acid</th>\n",
       "      <td>-0.256</td>\n",
       "      <td>-0.190</td>\n",
       "      <td>0.142</td>\n",
       "      <td>0.424</td>\n",
       "      <td>0.211</td>\n",
       "      <td>-0.656</td>\n",
       "      <td>0.361</td>\n",
       "      <td>0.019</td>\n",
       "      <td>0.017</td>\n",
       "      <td>-0.250</td>\n",
       "      <td>0.130</td>\n",
       "      <td>0.107</td>\n",
       "      <td>0.034</td>\n",
       "    </tr>\n",
       "    <tr>\n",
       "      <th>Ash</th>\n",
       "      <td>-0.022</td>\n",
       "      <td>-0.317</td>\n",
       "      <td>0.610</td>\n",
       "      <td>-0.207</td>\n",
       "      <td>-0.199</td>\n",
       "      <td>-0.120</td>\n",
       "      <td>-0.180</td>\n",
       "      <td>-0.105</td>\n",
       "      <td>0.225</td>\n",
       "      <td>-0.173</td>\n",
       "      <td>-0.517</td>\n",
       "      <td>-0.086</td>\n",
       "      <td>-0.179</td>\n",
       "    </tr>\n",
       "    <tr>\n",
       "      <th>Alcalinity of ash</th>\n",
       "      <td>-0.244</td>\n",
       "      <td>0.035</td>\n",
       "      <td>0.595</td>\n",
       "      <td>-0.054</td>\n",
       "      <td>0.094</td>\n",
       "      <td>0.127</td>\n",
       "      <td>-0.255</td>\n",
       "      <td>0.394</td>\n",
       "      <td>-0.057</td>\n",
       "      <td>0.157</td>\n",
       "      <td>0.538</td>\n",
       "      <td>-0.039</td>\n",
       "      <td>0.135</td>\n",
       "    </tr>\n",
       "    <tr>\n",
       "      <th>Magnesium</th>\n",
       "      <td>0.148</td>\n",
       "      <td>-0.262</td>\n",
       "      <td>0.066</td>\n",
       "      <td>-0.650</td>\n",
       "      <td>0.514</td>\n",
       "      <td>-0.081</td>\n",
       "      <td>0.314</td>\n",
       "      <td>-0.121</td>\n",
       "      <td>-0.279</td>\n",
       "      <td>0.109</td>\n",
       "      <td>0.040</td>\n",
       "      <td>0.056</td>\n",
       "      <td>0.063</td>\n",
       "    </tr>\n",
       "    <tr>\n",
       "      <th>Total phenols</th>\n",
       "      <td>0.385</td>\n",
       "      <td>-0.096</td>\n",
       "      <td>0.177</td>\n",
       "      <td>0.246</td>\n",
       "      <td>-0.011</td>\n",
       "      <td>0.087</td>\n",
       "      <td>-0.083</td>\n",
       "      <td>-0.376</td>\n",
       "      <td>-0.411</td>\n",
       "      <td>-0.233</td>\n",
       "      <td>0.333</td>\n",
       "      <td>-0.307</td>\n",
       "      <td>-0.408</td>\n",
       "    </tr>\n",
       "    <tr>\n",
       "      <th>Flavanoids</th>\n",
       "      <td>0.420</td>\n",
       "      <td>-0.015</td>\n",
       "      <td>0.182</td>\n",
       "      <td>0.180</td>\n",
       "      <td>-0.032</td>\n",
       "      <td>0.012</td>\n",
       "      <td>-0.086</td>\n",
       "      <td>-0.175</td>\n",
       "      <td>-0.085</td>\n",
       "      <td>-0.123</td>\n",
       "      <td>-0.081</td>\n",
       "      <td>0.038</td>\n",
       "      <td>0.830</td>\n",
       "    </tr>\n",
       "    <tr>\n",
       "      <th>Nonflavanoid phenol</th>\n",
       "      <td>-0.299</td>\n",
       "      <td>-0.076</td>\n",
       "      <td>0.203</td>\n",
       "      <td>0.046</td>\n",
       "      <td>-0.459</td>\n",
       "      <td>0.322</td>\n",
       "      <td>0.615</td>\n",
       "      <td>-0.285</td>\n",
       "      <td>-0.143</td>\n",
       "      <td>0.231</td>\n",
       "      <td>0.048</td>\n",
       "      <td>0.029</td>\n",
       "      <td>0.100</td>\n",
       "    </tr>\n",
       "    <tr>\n",
       "      <th>Proanthocyanins</th>\n",
       "      <td>0.308</td>\n",
       "      <td>-0.074</td>\n",
       "      <td>0.151</td>\n",
       "      <td>0.331</td>\n",
       "      <td>0.377</td>\n",
       "      <td>0.416</td>\n",
       "      <td>0.394</td>\n",
       "      <td>0.371</td>\n",
       "      <td>0.277</td>\n",
       "      <td>0.037</td>\n",
       "      <td>-0.203</td>\n",
       "      <td>-0.164</td>\n",
       "      <td>-0.113</td>\n",
       "    </tr>\n",
       "    <tr>\n",
       "      <th>Color intensity</th>\n",
       "      <td>-0.119</td>\n",
       "      <td>-0.534</td>\n",
       "      <td>-0.124</td>\n",
       "      <td>0.117</td>\n",
       "      <td>0.058</td>\n",
       "      <td>0.392</td>\n",
       "      <td>-0.181</td>\n",
       "      <td>0.011</td>\n",
       "      <td>-0.067</td>\n",
       "      <td>-0.293</td>\n",
       "      <td>0.066</td>\n",
       "      <td>0.621</td>\n",
       "      <td>-0.040</td>\n",
       "    </tr>\n",
       "    <tr>\n",
       "      <th>Hue</th>\n",
       "      <td>0.299</td>\n",
       "      <td>0.281</td>\n",
       "      <td>0.073</td>\n",
       "      <td>-0.281</td>\n",
       "      <td>-0.365</td>\n",
       "      <td>-0.059</td>\n",
       "      <td>0.293</td>\n",
       "      <td>0.416</td>\n",
       "      <td>-0.096</td>\n",
       "      <td>-0.513</td>\n",
       "      <td>0.099</td>\n",
       "      <td>0.248</td>\n",
       "      <td>-0.084</td>\n",
       "    </tr>\n",
       "    <tr>\n",
       "      <th>OD280/OD315 of diluted wines</th>\n",
       "      <td>0.384</td>\n",
       "      <td>0.143</td>\n",
       "      <td>0.214</td>\n",
       "      <td>0.154</td>\n",
       "      <td>-0.051</td>\n",
       "      <td>-0.212</td>\n",
       "      <td>-0.032</td>\n",
       "      <td>-0.070</td>\n",
       "      <td>0.002</td>\n",
       "      <td>0.553</td>\n",
       "      <td>-0.020</td>\n",
       "      <td>0.589</td>\n",
       "      <td>-0.236</td>\n",
       "    </tr>\n",
       "    <tr>\n",
       "      <th>Proline</th>\n",
       "      <td>0.276</td>\n",
       "      <td>-0.381</td>\n",
       "      <td>-0.143</td>\n",
       "      <td>-0.156</td>\n",
       "      <td>-0.232</td>\n",
       "      <td>-0.104</td>\n",
       "      <td>0.068</td>\n",
       "      <td>-0.086</td>\n",
       "      <td>0.638</td>\n",
       "      <td>0.080</td>\n",
       "      <td>0.482</td>\n",
       "      <td>-0.108</td>\n",
       "      <td>0.030</td>\n",
       "    </tr>\n",
       "  </tbody>\n",
       "</table>\n",
       "</div>"
      ],
      "text/plain": [
       "                                 0      1      2      3      4      5      6   \\\n",
       "Alcohol                       0.128 -0.493 -0.185  0.079 -0.310 -0.186 -0.042   \n",
       "Malic acid                   -0.256 -0.190  0.142  0.424  0.211 -0.656  0.361   \n",
       "Ash                          -0.022 -0.317  0.610 -0.207 -0.199 -0.120 -0.180   \n",
       "Alcalinity of ash            -0.244  0.035  0.595 -0.054  0.094  0.127 -0.255   \n",
       "Magnesium                     0.148 -0.262  0.066 -0.650  0.514 -0.081  0.314   \n",
       "Total phenols                 0.385 -0.096  0.177  0.246 -0.011  0.087 -0.083   \n",
       "Flavanoids                    0.420 -0.015  0.182  0.180 -0.032  0.012 -0.086   \n",
       "Nonflavanoid phenol          -0.299 -0.076  0.203  0.046 -0.459  0.322  0.615   \n",
       "Proanthocyanins               0.308 -0.074  0.151  0.331  0.377  0.416  0.394   \n",
       "Color intensity              -0.119 -0.534 -0.124  0.117  0.058  0.392 -0.181   \n",
       "Hue                           0.299  0.281  0.073 -0.281 -0.365 -0.059  0.293   \n",
       "OD280/OD315 of diluted wines  0.384  0.143  0.214  0.154 -0.051 -0.212 -0.032   \n",
       "Proline                       0.276 -0.381 -0.143 -0.156 -0.232 -0.104  0.068   \n",
       "\n",
       "                                 7      8      9      10     11     12  \n",
       "Alcohol                       0.492 -0.418  0.292 -0.133 -0.217  0.037  \n",
       "Malic acid                    0.019  0.017 -0.250  0.130  0.107  0.034  \n",
       "Ash                          -0.105  0.225 -0.173 -0.517 -0.086 -0.179  \n",
       "Alcalinity of ash             0.394 -0.057  0.157  0.538 -0.039  0.135  \n",
       "Magnesium                    -0.121 -0.279  0.109  0.040  0.056  0.063  \n",
       "Total phenols                -0.376 -0.411 -0.233  0.333 -0.307 -0.408  \n",
       "Flavanoids                   -0.175 -0.085 -0.123 -0.081  0.038  0.830  \n",
       "Nonflavanoid phenol          -0.285 -0.143  0.231  0.048  0.029  0.100  \n",
       "Proanthocyanins               0.371  0.277  0.037 -0.203 -0.164 -0.113  \n",
       "Color intensity               0.011 -0.067 -0.293  0.066  0.621 -0.040  \n",
       "Hue                           0.416 -0.096 -0.513  0.099  0.248 -0.084  \n",
       "OD280/OD315 of diluted wines -0.070  0.002  0.553 -0.020  0.589 -0.236  \n",
       "Proline                      -0.086  0.638  0.080  0.482 -0.108  0.030  "
      ]
     },
     "execution_count": 24,
     "metadata": {},
     "output_type": "execute_result"
    }
   ],
   "source": [
    "pd.DataFrame(np.round(pca.components_,3),columns=X.columns).T"
   ]
  },
  {
   "cell_type": "code",
   "execution_count": 21,
   "id": "b6028489",
   "metadata": {},
   "outputs": [
    {
     "data": {
      "text/plain": [
       "PCA()"
      ]
     },
     "execution_count": 21,
     "metadata": {},
     "output_type": "execute_result"
    }
   ],
   "source": [
    "pca = PCA(n_components = None)\n",
    "pca.fit(X_train_sc)"
   ]
  },
  {
   "cell_type": "code",
   "execution_count": 22,
   "id": "a53f3fee",
   "metadata": {},
   "outputs": [
    {
     "data": {
      "text/plain": [
       "array([[-1.16602698, -3.61532732,  1.15128454, ..., -0.1121504 ,\n",
       "         0.07147567, -0.75559169],\n",
       "       [-3.86261156, -0.48217746,  1.72758428, ...,  0.50457041,\n",
       "        -0.18288356, -0.122403  ],\n",
       "       [ 2.28353786,  1.27503318, -0.13167658, ...,  0.48017987,\n",
       "        -0.45893296,  0.41585049],\n",
       "       ...,\n",
       "       [ 4.22339048, -2.40345929, -1.13704654, ..., -0.12930554,\n",
       "        -0.20588086, -0.04785505],\n",
       "       [-1.80527275,  1.49091985, -0.08991142, ..., -0.50730299,\n",
       "        -0.48437788,  0.46676777],\n",
       "       [-0.07808699,  1.19327925,  1.04439979, ..., -0.24025144,\n",
       "         0.05180158, -0.28153725]])"
      ]
     },
     "execution_count": 22,
     "metadata": {},
     "output_type": "execute_result"
    }
   ],
   "source": [
    "pca.fit_transform(X_train_sc)"
   ]
  },
  {
   "cell_type": "code",
   "execution_count": 23,
   "id": "77f74e29",
   "metadata": {},
   "outputs": [
    {
     "name": "stdout",
     "output_type": "stream",
     "text": [
      "[0.359 0.187 0.116 0.074 0.067 0.049 0.042 0.027 0.023 0.019 0.017 0.013\n",
      " 0.008]\n"
     ]
    }
   ],
   "source": [
    "print(np.round(pca.explained_variance_ratio_, 3))"
   ]
  },
  {
   "cell_type": "code",
   "execution_count": 41,
   "id": "05eb2615",
   "metadata": {},
   "outputs": [
    {
     "data": {
      "text/plain": [
       "array([0.35900066, 0.54592   , 0.66198557, 0.73570273, 0.80224132,\n",
       "       0.85078714, 0.89273756, 0.91957678, 0.94305138, 0.96194872,\n",
       "       0.97910815, 0.99173743, 1.        ])"
      ]
     },
     "execution_count": 41,
     "metadata": {},
     "output_type": "execute_result"
    }
   ],
   "source": [
    "np.cumsum(pca.explained_variance_ratio_)"
   ]
  },
  {
   "cell_type": "code",
   "execution_count": 42,
   "id": "d57e25d8",
   "metadata": {},
   "outputs": [
    {
     "data": {
      "text/plain": [
       "Text(0, 0.5, 'Cumulative explained varince')"
      ]
     },
     "execution_count": 42,
     "metadata": {},
     "output_type": "execute_result"
    },
    {
     "data": {
      "image/png": "[encoded data removed]",
      "text/plain": [
       "<Figure size 432x288 with 1 Axes>"
      ]
     },
     "metadata": {},
     "output_type": "display_data"
    }
   ],
   "source": [
    "plt.plot(np.cumsum(pca.explained_variance_ratio_)*100.)\n",
    "plt.xlabel('Number of components')\n",
    "plt.ylabel('Cumulative explained varince')"
   ]
  },
  {
   "cell_type": "code",
   "execution_count": 45,
   "id": "e5aa216a",
   "metadata": {},
   "outputs": [],
   "source": [
    "res = pca.transform(X_train_sc)\n",
    "index_name = ['PCA_'+str(k) for k in range(0,len(res))]"
   ]
  },
  {
   "cell_type": "code",
   "execution_count": 46,
   "id": "f0d684b4",
   "metadata": {},
   "outputs": [
    {
     "data": {
      "text/plain": [
       "['PCA_0',\n",
       " 'PCA_1',\n",
       " 'PCA_2',\n",
       " 'PCA_3',\n",
       " 'PCA_4',\n",
       " 'PCA_5',\n",
       " 'PCA_6',\n",
       " 'PCA_7',\n",
       " 'PCA_8',\n",
       " 'PCA_9',\n",
       " 'PCA_10',\n",
       " 'PCA_11',\n",
       " 'PCA_12',\n",
       " 'PCA_13',\n",
       " 'PCA_14',\n",
       " 'PCA_15',\n",
       " 'PCA_16',\n",
       " 'PCA_17',\n",
       " 'PCA_18',\n",
       " 'PCA_19',\n",
       " 'PCA_20',\n",
       " 'PCA_21',\n",
       " 'PCA_22',\n",
       " 'PCA_23',\n",
       " 'PCA_24',\n",
       " 'PCA_25',\n",
       " 'PCA_26',\n",
       " 'PCA_27',\n",
       " 'PCA_28',\n",
       " 'PCA_29',\n",
       " 'PCA_30',\n",
       " 'PCA_31',\n",
       " 'PCA_32',\n",
       " 'PCA_33',\n",
       " 'PCA_34',\n",
       " 'PCA_35',\n",
       " 'PCA_36',\n",
       " 'PCA_37',\n",
       " 'PCA_38',\n",
       " 'PCA_39',\n",
       " 'PCA_40',\n",
       " 'PCA_41',\n",
       " 'PCA_42',\n",
       " 'PCA_43',\n",
       " 'PCA_44',\n",
       " 'PCA_45',\n",
       " 'PCA_46',\n",
       " 'PCA_47',\n",
       " 'PCA_48',\n",
       " 'PCA_49',\n",
       " 'PCA_50',\n",
       " 'PCA_51',\n",
       " 'PCA_52',\n",
       " 'PCA_53',\n",
       " 'PCA_54',\n",
       " 'PCA_55',\n",
       " 'PCA_56',\n",
       " 'PCA_57',\n",
       " 'PCA_58',\n",
       " 'PCA_59',\n",
       " 'PCA_60',\n",
       " 'PCA_61',\n",
       " 'PCA_62',\n",
       " 'PCA_63',\n",
       " 'PCA_64',\n",
       " 'PCA_65',\n",
       " 'PCA_66',\n",
       " 'PCA_67',\n",
       " 'PCA_68',\n",
       " 'PCA_69',\n",
       " 'PCA_70',\n",
       " 'PCA_71',\n",
       " 'PCA_72',\n",
       " 'PCA_73',\n",
       " 'PCA_74',\n",
       " 'PCA_75',\n",
       " 'PCA_76',\n",
       " 'PCA_77',\n",
       " 'PCA_78',\n",
       " 'PCA_79',\n",
       " 'PCA_80',\n",
       " 'PCA_81',\n",
       " 'PCA_82',\n",
       " 'PCA_83',\n",
       " 'PCA_84',\n",
       " 'PCA_85',\n",
       " 'PCA_86',\n",
       " 'PCA_87',\n",
       " 'PCA_88',\n",
       " 'PCA_89',\n",
       " 'PCA_90',\n",
       " 'PCA_91',\n",
       " 'PCA_92',\n",
       " 'PCA_93',\n",
       " 'PCA_94',\n",
       " 'PCA_95',\n",
       " 'PCA_96',\n",
       " 'PCA_97',\n",
       " 'PCA_98',\n",
       " 'PCA_99',\n",
       " 'PCA_100',\n",
       " 'PCA_101',\n",
       " 'PCA_102',\n",
       " 'PCA_103',\n",
       " 'PCA_104',\n",
       " 'PCA_105',\n",
       " 'PCA_106',\n",
       " 'PCA_107',\n",
       " 'PCA_108',\n",
       " 'PCA_109',\n",
       " 'PCA_110',\n",
       " 'PCA_111',\n",
       " 'PCA_112',\n",
       " 'PCA_113',\n",
       " 'PCA_114',\n",
       " 'PCA_115',\n",
       " 'PCA_116',\n",
       " 'PCA_117',\n",
       " 'PCA_118',\n",
       " 'PCA_119',\n",
       " 'PCA_120',\n",
       " 'PCA_121',\n",
       " 'PCA_122',\n",
       " 'PCA_123',\n",
       " 'PCA_124',\n",
       " 'PCA_125',\n",
       " 'PCA_126',\n",
       " 'PCA_127',\n",
       " 'PCA_128',\n",
       " 'PCA_129',\n",
       " 'PCA_130',\n",
       " 'PCA_131',\n",
       " 'PCA_132',\n",
       " 'PCA_133',\n",
       " 'PCA_134',\n",
       " 'PCA_135',\n",
       " 'PCA_136',\n",
       " 'PCA_137',\n",
       " 'PCA_138',\n",
       " 'PCA_139',\n",
       " 'PCA_140',\n",
       " 'PCA_141']"
      ]
     },
     "execution_count": 46,
     "metadata": {},
     "output_type": "execute_result"
    }
   ],
   "source": [
    "index_name"
   ]
  },
  {
   "cell_type": "code",
   "execution_count": 52,
   "id": "254d08cf",
   "metadata": {},
   "outputs": [
    {
     "data": {
      "text/html": [
       "<div>\n",
       "<style scoped>\n",
       "    .dataframe tbody tr th:only-of-type {\n",
       "        vertical-align: middle;\n",
       "    }\n",
       "\n",
       "    .dataframe tbody tr th {\n",
       "        vertical-align: top;\n",
       "    }\n",
       "\n",
       "    .dataframe thead th {\n",
       "        text-align: right;\n",
       "    }\n",
       "</style>\n",
       "<table border=\"1\" class=\"dataframe\">\n",
       "  <thead>\n",
       "    <tr style=\"text-align: right;\">\n",
       "      <th></th>\n",
       "      <th>PCA_0</th>\n",
       "      <th>PCA_1</th>\n",
       "      <th>PCA_2</th>\n",
       "      <th>PCA_3</th>\n",
       "    </tr>\n",
       "  </thead>\n",
       "  <tbody>\n",
       "    <tr>\n",
       "      <th>Malic acid</th>\n",
       "      <td>-3.615327</td>\n",
       "      <td>-0.482177</td>\n",
       "      <td>1.275033</td>\n",
       "      <td>-2.496962</td>\n",
       "    </tr>\n",
       "    <tr>\n",
       "      <th>Alcohol</th>\n",
       "      <td>-1.166027</td>\n",
       "      <td>-3.862612</td>\n",
       "      <td>2.283538</td>\n",
       "      <td>-1.678507</td>\n",
       "    </tr>\n",
       "    <tr>\n",
       "      <th>Proline</th>\n",
       "      <td>-0.755592</td>\n",
       "      <td>-0.122403</td>\n",
       "      <td>0.415850</td>\n",
       "      <td>-0.791136</td>\n",
       "    </tr>\n",
       "    <tr>\n",
       "      <th>Proanthocyanins</th>\n",
       "      <td>-0.639966</td>\n",
       "      <td>-0.005981</td>\n",
       "      <td>-0.481336</td>\n",
       "      <td>-0.121445</td>\n",
       "    </tr>\n",
       "    <tr>\n",
       "      <th>Flavanoids</th>\n",
       "      <td>-0.553745</td>\n",
       "      <td>1.257686</td>\n",
       "      <td>-0.979052</td>\n",
       "      <td>-0.666927</td>\n",
       "    </tr>\n",
       "    <tr>\n",
       "      <th>Hue</th>\n",
       "      <td>-0.112150</td>\n",
       "      <td>0.504570</td>\n",
       "      <td>0.480180</td>\n",
       "      <td>-0.319599</td>\n",
       "    </tr>\n",
       "    <tr>\n",
       "      <th>OD280/OD315 of diluted wines</th>\n",
       "      <td>0.071476</td>\n",
       "      <td>-0.182884</td>\n",
       "      <td>-0.458933</td>\n",
       "      <td>0.045823</td>\n",
       "    </tr>\n",
       "    <tr>\n",
       "      <th>Magnesium</th>\n",
       "      <td>0.221634</td>\n",
       "      <td>-0.226540</td>\n",
       "      <td>0.215798</td>\n",
       "      <td>-0.003420</td>\n",
       "    </tr>\n",
       "    <tr>\n",
       "      <th>Color intensity</th>\n",
       "      <td>0.262397</td>\n",
       "      <td>-0.453600</td>\n",
       "      <td>-0.777822</td>\n",
       "      <td>-0.123055</td>\n",
       "    </tr>\n",
       "    <tr>\n",
       "      <th>Nonflavanoid phenol</th>\n",
       "      <td>0.918085</td>\n",
       "      <td>-0.113136</td>\n",
       "      <td>-0.678263</td>\n",
       "      <td>0.150849</td>\n",
       "    </tr>\n",
       "    <tr>\n",
       "      <th>Ash</th>\n",
       "      <td>1.151285</td>\n",
       "      <td>1.727584</td>\n",
       "      <td>-0.131677</td>\n",
       "      <td>0.556619</td>\n",
       "    </tr>\n",
       "    <tr>\n",
       "      <th>Alcalinity of ash</th>\n",
       "      <td>1.167179</td>\n",
       "      <td>0.467086</td>\n",
       "      <td>1.107830</td>\n",
       "      <td>1.131270</td>\n",
       "    </tr>\n",
       "    <tr>\n",
       "      <th>Total phenols</th>\n",
       "      <td>3.062380</td>\n",
       "      <td>-1.016510</td>\n",
       "      <td>1.004315</td>\n",
       "      <td>2.754779</td>\n",
       "    </tr>\n",
       "  </tbody>\n",
       "</table>\n",
       "</div>"
      ],
      "text/plain": [
       "                                 PCA_0     PCA_1     PCA_2     PCA_3\n",
       "Malic acid                   -3.615327 -0.482177  1.275033 -2.496962\n",
       "Alcohol                      -1.166027 -3.862612  2.283538 -1.678507\n",
       "Proline                      -0.755592 -0.122403  0.415850 -0.791136\n",
       "Proanthocyanins              -0.639966 -0.005981 -0.481336 -0.121445\n",
       "Flavanoids                   -0.553745  1.257686 -0.979052 -0.666927\n",
       "Hue                          -0.112150  0.504570  0.480180 -0.319599\n",
       "OD280/OD315 of diluted wines  0.071476 -0.182884 -0.458933  0.045823\n",
       "Magnesium                     0.221634 -0.226540  0.215798 -0.003420\n",
       "Color intensity               0.262397 -0.453600 -0.777822 -0.123055\n",
       "Nonflavanoid phenol           0.918085 -0.113136 -0.678263  0.150849\n",
       "Ash                           1.151285  1.727584 -0.131677  0.556619\n",
       "Alcalinity of ash             1.167179  0.467086  1.107830  1.131270\n",
       "Total phenols                 3.062380 -1.016510  1.004315  2.754779"
      ]
     },
     "execution_count": 52,
     "metadata": {},
     "output_type": "execute_result"
    }
   ],
   "source": [
    "df1 = pd.DataFrame(res,columns = df.columns[1:],\n",
    "                  index=index_name)[0:4]\n",
    "df1.T.sort_values(by='PCA_0')\n"
   ]
  },
  {
   "cell_type": "code",
   "execution_count": 48,
   "id": "001b67f3",
   "metadata": {},
   "outputs": [
    {
     "data": {
      "text/html": [
       "<div>\n",
       "<style scoped>\n",
       "    .dataframe tbody tr th:only-of-type {\n",
       "        vertical-align: middle;\n",
       "    }\n",
       "\n",
       "    .dataframe tbody tr th {\n",
       "        vertical-align: top;\n",
       "    }\n",
       "\n",
       "    .dataframe thead th {\n",
       "        text-align: right;\n",
       "    }\n",
       "</style>\n",
       "<table border=\"1\" class=\"dataframe\">\n",
       "  <thead>\n",
       "    <tr style=\"text-align: right;\">\n",
       "      <th></th>\n",
       "      <th>Alcohol</th>\n",
       "      <th>Malic acid</th>\n",
       "      <th>Ash</th>\n",
       "      <th>Alcalinity of ash</th>\n",
       "      <th>Magnesium</th>\n",
       "      <th>Total phenols</th>\n",
       "      <th>Flavanoids</th>\n",
       "      <th>Nonflavanoid phenol</th>\n",
       "      <th>Proanthocyanins</th>\n",
       "      <th>Color intensity</th>\n",
       "      <th>Hue</th>\n",
       "      <th>OD280/OD315 of diluted wines</th>\n",
       "      <th>Proline</th>\n",
       "    </tr>\n",
       "  </thead>\n",
       "  <tbody>\n",
       "    <tr>\n",
       "      <th>PCA_0</th>\n",
       "      <td>-1.166027</td>\n",
       "      <td>-3.615327</td>\n",
       "      <td>1.151285</td>\n",
       "      <td>1.167179</td>\n",
       "      <td>0.221634</td>\n",
       "      <td>3.062380</td>\n",
       "      <td>-0.553745</td>\n",
       "      <td>0.918085</td>\n",
       "      <td>-0.639966</td>\n",
       "      <td>0.262397</td>\n",
       "      <td>-0.112150</td>\n",
       "      <td>0.071476</td>\n",
       "      <td>-0.755592</td>\n",
       "    </tr>\n",
       "    <tr>\n",
       "      <th>PCA_1</th>\n",
       "      <td>-3.862612</td>\n",
       "      <td>-0.482177</td>\n",
       "      <td>1.727584</td>\n",
       "      <td>0.467086</td>\n",
       "      <td>-0.226540</td>\n",
       "      <td>-1.016510</td>\n",
       "      <td>1.257686</td>\n",
       "      <td>-0.113136</td>\n",
       "      <td>-0.005981</td>\n",
       "      <td>-0.453600</td>\n",
       "      <td>0.504570</td>\n",
       "      <td>-0.182884</td>\n",
       "      <td>-0.122403</td>\n",
       "    </tr>\n",
       "    <tr>\n",
       "      <th>PCA_2</th>\n",
       "      <td>2.283538</td>\n",
       "      <td>1.275033</td>\n",
       "      <td>-0.131677</td>\n",
       "      <td>1.107830</td>\n",
       "      <td>0.215798</td>\n",
       "      <td>1.004315</td>\n",
       "      <td>-0.979052</td>\n",
       "      <td>-0.678263</td>\n",
       "      <td>-0.481336</td>\n",
       "      <td>-0.777822</td>\n",
       "      <td>0.480180</td>\n",
       "      <td>-0.458933</td>\n",
       "      <td>0.415850</td>\n",
       "    </tr>\n",
       "    <tr>\n",
       "      <th>PCA_3</th>\n",
       "      <td>-1.678507</td>\n",
       "      <td>-2.496962</td>\n",
       "      <td>0.556619</td>\n",
       "      <td>1.131270</td>\n",
       "      <td>-0.003420</td>\n",
       "      <td>2.754779</td>\n",
       "      <td>-0.666927</td>\n",
       "      <td>0.150849</td>\n",
       "      <td>-0.121445</td>\n",
       "      <td>-0.123055</td>\n",
       "      <td>-0.319599</td>\n",
       "      <td>0.045823</td>\n",
       "      <td>-0.791136</td>\n",
       "    </tr>\n",
       "    <tr>\n",
       "      <th>PCA_4</th>\n",
       "      <td>1.572842</td>\n",
       "      <td>0.688203</td>\n",
       "      <td>-1.417945</td>\n",
       "      <td>-0.425082</td>\n",
       "      <td>-0.674013</td>\n",
       "      <td>-0.320546</td>\n",
       "      <td>-0.078362</td>\n",
       "      <td>-0.127387</td>\n",
       "      <td>0.251356</td>\n",
       "      <td>-0.275627</td>\n",
       "      <td>0.309145</td>\n",
       "      <td>-0.119233</td>\n",
       "      <td>0.353050</td>\n",
       "    </tr>\n",
       "  </tbody>\n",
       "</table>\n",
       "</div>"
      ],
      "text/plain": [
       "        Alcohol  Malic acid       Ash   Alcalinity of ash  Magnesium  \\\n",
       "PCA_0 -1.166027    -3.615327  1.151285           1.167179   0.221634   \n",
       "PCA_1 -3.862612    -0.482177  1.727584           0.467086  -0.226540   \n",
       "PCA_2  2.283538     1.275033 -0.131677           1.107830   0.215798   \n",
       "PCA_3 -1.678507    -2.496962  0.556619           1.131270  -0.003420   \n",
       "PCA_4  1.572842     0.688203 -1.417945          -0.425082  -0.674013   \n",
       "\n",
       "       Total phenols  Flavanoids  Nonflavanoid phenol  Proanthocyanins  \\\n",
       "PCA_0       3.062380   -0.553745             0.918085        -0.639966   \n",
       "PCA_1      -1.016510    1.257686            -0.113136        -0.005981   \n",
       "PCA_2       1.004315   -0.979052            -0.678263        -0.481336   \n",
       "PCA_3       2.754779   -0.666927             0.150849        -0.121445   \n",
       "PCA_4      -0.320546   -0.078362            -0.127387         0.251356   \n",
       "\n",
       "       Color intensity       Hue  OD280/OD315 of diluted wines   Proline  \n",
       "PCA_0         0.262397 -0.112150                      0.071476 -0.755592  \n",
       "PCA_1        -0.453600  0.504570                     -0.182884 -0.122403  \n",
       "PCA_2        -0.777822  0.480180                     -0.458933  0.415850  \n",
       "PCA_3        -0.123055 -0.319599                      0.045823 -0.791136  \n",
       "PCA_4        -0.275627  0.309145                     -0.119233  0.353050  "
      ]
     },
     "execution_count": 48,
     "metadata": {},
     "output_type": "execute_result"
    }
   ],
   "source": [
    "df1.head()"
   ]
  },
  {
   "cell_type": "markdown",
   "id": "bc6926fa",
   "metadata": {},
   "source": [
    "# Kernel PCA"
   ]
  },
  {
   "cell_type": "code",
   "execution_count": 54,
   "id": "e01165b7",
   "metadata": {},
   "outputs": [],
   "source": [
    "from sklearn.datasets import make_circles\n",
    "from sklearn.decomposition import PCA, KernelPCA"
   ]
  },
  {
   "cell_type": "code",
   "execution_count": 55,
   "id": "49ddebf9",
   "metadata": {},
   "outputs": [],
   "source": [
    "import numpy as np\n",
    "import pandas as pd"
   ]
  },
  {
   "cell_type": "code",
   "execution_count": 56,
   "id": "dc9d7944",
   "metadata": {},
   "outputs": [],
   "source": [
    "np.random.seed(0)"
   ]
  },
  {
   "cell_type": "code",
   "execution_count": 57,
   "id": "55a8a92b",
   "metadata": {},
   "outputs": [],
   "source": [
    "X, y = make_circles?"
   ]
  },
  {
   "cell_type": "code",
   "execution_count": 77,
   "id": "fb2b3c47",
   "metadata": {},
   "outputs": [],
   "source": [
    "X, y = make_circles(n_samples=400, factor=0.3, noise=0.05)"
   ]
  },
  {
   "cell_type": "code",
   "execution_count": 95,
   "id": "8d94ca0e",
   "metadata": {},
   "outputs": [],
   "source": [
    "import matplotlib.pyplot as plt\n",
    "%matplotlib inline\n",
    "import seaborn as sns\n",
    "sns.set_style('whitegrid')"
   ]
  },
  {
   "cell_type": "code",
   "execution_count": 96,
   "id": "5a2291e5",
   "metadata": {},
   "outputs": [
    {
     "data": {
      "text/plain": [
       "<matplotlib.collections.PathCollection at 0x18aa3016fd0>"
      ]
     },
     "execution_count": 96,
     "metadata": {},
     "output_type": "execute_result"
    },
    {
     "data": {
      "image/png": "[encoded data removed]",
      "text/plain": [
       "<Figure size 432x288 with 1 Axes>"
      ]
     },
     "metadata": {},
     "output_type": "display_data"
    }
   ],
   "source": [
    "plt.figure()\n",
    "plt.scatter(X[:,0],X[:,1])"
   ]
  },
  {
   "cell_type": "code",
   "execution_count": 97,
   "id": "0dac9a39",
   "metadata": {},
   "outputs": [],
   "source": [
    "kpca = KernelPCA(kernel = 'rbf', fit_inverse_transform = True, gamma = 10)\n",
    "X_kpca = kpca.fit_transform(X)\n",
    "X_back = kpca.inverse_transform(X_kpca)\n",
    "pca = PCA()\n",
    "X_pca = pca.fit_transform(X)"
   ]
  },
  {
   "cell_type": "code",
   "execution_count": 98,
   "id": "7f65c3b7",
   "metadata": {},
   "outputs": [],
   "source": [
    "# hyper parameters\n",
    "\n"
   ]
  },
  {
   "cell_type": "code",
   "execution_count": 100,
   "id": "800c713e",
   "metadata": {},
   "outputs": [
    {
     "data": {
      "text/plain": [
       "Text(0, 0.5, '$x_2$')"
      ]
     },
     "execution_count": 100,
     "metadata": {},
     "output_type": "execute_result"
    },
    {
     "data": {
      "image/png": "[encoded data removed]",
      "text/plain": [
       "<Figure size 432x288 with 1 Axes>"
      ]
     },
     "metadata": {},
     "output_type": "display_data"
    }
   ],
   "source": [
    "plt.figure()\n",
    "plt.title('Original Space')\n",
    "reds = y == 0\n",
    "blues = y == 1\n",
    "plt.scatter(X[reds, 0], X[reds, 1], c='red',\n",
    "           s=20, edgecolor='k')\n",
    "plt.scatter(X[blues, 0], X[blues, 1], c='blue',\n",
    "           s=20, edgecolor='k')\n",
    "plt.xlabel(\"$x_1$\")\n",
    "plt.ylabel(\"$x_2$\")\n"
   ]
  },
  {
   "cell_type": "code",
   "execution_count": 102,
   "id": "6a473fba",
   "metadata": {},
   "outputs": [
    {
     "data": {
      "text/plain": [
       "Text(0, 0.5, '2nd Principal Components')"
      ]
     },
     "execution_count": 102,
     "metadata": {},
     "output_type": "execute_result"
    },
    {
     "data": {
      "image/png": "[encoded data removed]",
      "text/plain": [
       "<Figure size 432x288 with 1 Axes>"
      ]
     },
     "metadata": {},
     "output_type": "display_data"
    }
   ],
   "source": [
    "plt.figure()\n",
    "plt.title('Projection by PCA')\n",
    "reds = y == 0\n",
    "blues = y == 1\n",
    "plt.scatter(X_pca[reds, 0], X_pca[reds, 1], c='red',\n",
    "           s=20, edgecolor='k')\n",
    "plt.scatter(X_pca[blues, 0], X_pca[blues, 1], c='blue',\n",
    "           s=20, edgecolor='k')\n",
    "plt.xlabel(\"1st Principal Components\")\n",
    "plt.ylabel(\"2nd Principal Components\")\n"
   ]
  },
  {
   "cell_type": "code",
   "execution_count": 103,
   "id": "e6cfacea",
   "metadata": {},
   "outputs": [
    {
     "data": {
      "text/plain": [
       "Text(0, 0.5, '2nd Principal Component')"
      ]
     },
     "execution_count": 103,
     "metadata": {},
     "output_type": "execute_result"
    },
    {
     "data": {
      "image/png": "[encoded data removed]",
      "text/plain": [
       "<Figure size 432x288 with 1 Axes>"
      ]
     },
     "metadata": {},
     "output_type": "display_data"
    }
   ],
   "source": [
    "plt.figure()\n",
    "plt.title('Projection by KPCA')\n",
    "reds = y == 0\n",
    "blues = y == 1\n",
    "plt.scatter(X_kpca[reds, 0], X_kpca[reds, 1], c='red',\n",
    "           s=20, edgecolor='k')\n",
    "plt.scatter(X_kpca[blues, 0], X_kpca[blues, 1], c='blue',\n",
    "           s=20, edgecolor='k')\n",
    "plt.xlabel(\"1st Principal Component in space induced by $\\phi$\")\n",
    "plt.ylabel(\"2nd Principal Component\")\n"
   ]
  },
  {
   "cell_type": "markdown",
   "id": "2e341997",
   "metadata": {},
   "source": [
    "# Kernel PCA Example"
   ]
  },
  {
   "cell_type": "code",
   "execution_count": 123,
   "id": "33d45928",
   "metadata": {},
   "outputs": [],
   "source": [
    "df = sns.load_dataset('iris')\n",
    "df = df[df['species'] != 'setosa']"
   ]
  },
  {
   "cell_type": "code",
   "execution_count": 124,
   "id": "eae351e5",
   "metadata": {},
   "outputs": [],
   "source": [
    "col = ['petal_length', 'petal_width']\n",
    "X = df.loc[:, col]\n",
    "species_to_num = {'versicolor': 0,\n",
    "                  'virginica': 1}\n",
    "df['tmp'] = df['species'].map(species_to_num)\n",
    "y = df['tmp']"
   ]
  },
  {
   "cell_type": "code",
   "execution_count": 125,
   "id": "30ab58b6",
   "metadata": {},
   "outputs": [],
   "source": [
    "kpca = KernelPCA(kernel='rbf', n_components=2)\n",
    "X_kpca = kpca.fit_transform(X)                 "
   ]
  },
  {
   "cell_type": "code",
   "execution_count": 126,
   "id": "07f26bc6",
   "metadata": {},
   "outputs": [],
   "source": [
    "from sklearn.linear_model import LogisticRegression"
   ]
  },
  {
   "cell_type": "code",
   "execution_count": 127,
   "id": "70130756",
   "metadata": {},
   "outputs": [
    {
     "data": {
      "text/plain": [
       "LogisticRegression()"
      ]
     },
     "execution_count": 127,
     "metadata": {},
     "output_type": "execute_result"
    }
   ],
   "source": [
    "clf = LogisticRegression()\n",
    "clf.fit(X,y)"
   ]
  },
  {
   "cell_type": "code",
   "execution_count": 134,
   "id": "8e67c2d8",
   "metadata": {},
   "outputs": [],
   "source": [
    "Xv = X.values.reshape(-1,1)\n",
    "h = 0.02\n",
    "x_min, x_max = Xv.min(), Xv.max() + 1\n",
    "y_min, y_max = y.min(), y.max() + 2\n",
    "xx, yy = np.meshgrid(np.arange(x_min, x_max, h),\n",
    "                     np.arange(y_min, y_max, h))"
   ]
  },
  {
   "cell_type": "code",
   "execution_count": 135,
   "id": "4145dad2",
   "metadata": {},
   "outputs": [
    {
     "data": {
      "image/png": "[encoded data removed]",
      "text/plain": [
       "<Figure size 576x576 with 1 Axes>"
      ]
     },
     "metadata": {},
     "output_type": "display_data"
    }
   ],
   "source": [
    "z = clf.predict(np.c_[xx.ravel(), yy.ravel()])\n",
    "z = z.reshape(xx.shape)\n",
    "fig = plt.figure(figsize=(8,8))\n",
    "ax = plt.contourf(xx, yy, z, cmap = 'afmhot', alpha=0.3);\n",
    "plt.scatter(X.values[:, 0], X.values[:, 1], c=y, s=80, \n",
    "            alpha=0.9, edgecolors='g');"
   ]
  },
  {
   "cell_type": "code",
   "execution_count": 136,
   "id": "b541e436",
   "metadata": {},
   "outputs": [],
   "source": [
    "Xv = X_kpca\n",
    "h = 0.02\n",
    "x_min, x_max = Xv.min()- 0.5, Xv.max() + 0.5\n",
    "y_min, y_max = y.min() - 0.5, y.max()\n",
    "xx, yy = np.meshgrid(np.arange(x_min, x_max, h),\n",
    "                     np.arange(y_min, y_max, h))"
   ]
  },
  {
   "cell_type": "code",
   "execution_count": 137,
   "id": "a6b2256e",
   "metadata": {},
   "outputs": [
    {
     "data": {
      "image/png": "[encoded data removed]",
      "text/plain": [
       "<Figure size 720x576 with 1 Axes>"
      ]
     },
     "metadata": {},
     "output_type": "display_data"
    }
   ],
   "source": [
    "z = clf.predict(np.c_[xx.ravel(), yy.ravel()])\n",
    "z = z.reshape(xx.shape)\n",
    "fig = plt.figure(figsize=(10,8))\n",
    "ax = plt.contourf(xx, yy, z, cmap = 'afmhot', alpha=0.3);\n",
    "plt.scatter(X_kpca[:,0], X_kpca[:,1], c=y, s=80, \n",
    "            alpha=0.9, edgecolors='g');"
   ]
  },
  {
   "cell_type": "markdown",
   "id": "6455d84d",
   "metadata": {},
   "source": [
    "# Linear Discriminant Analysis (LDA)"
   ]
  },
  {
   "cell_type": "code",
   "execution_count": 138,
   "id": "6ced5d64",
   "metadata": {},
   "outputs": [],
   "source": [
    "import numpy as np\n",
    "import pandas as pd\n",
    "import matplotlib.pyplot as plt\n",
    "%matplotlib inline\n",
    "import seaborn as sns\n",
    "sns.set_style()"
   ]
  },
  {
   "cell_type": "code",
   "execution_count": 139,
   "id": "3b48e4d0",
   "metadata": {},
   "outputs": [],
   "source": [
    "col = ['petal_length', 'petal_width']\n",
    "X = df.loc[:, col]\n",
    "species_to_num = {'versicolor': 0,\n",
    "                  'virginica': 1}\n",
    "df['tmp'] = df['species'].map(species_to_num)\n",
    "y = df['tmp']"
   ]
  },
  {
   "cell_type": "code",
   "execution_count": 140,
   "id": "819a8210",
   "metadata": {},
   "outputs": [],
   "source": [
    "from sklearn.discriminant_analysis import LinearDiscriminantAnalysis"
   ]
  },
  {
   "cell_type": "code",
   "execution_count": 142,
   "id": "42a4bb8d",
   "metadata": {},
   "outputs": [
    {
     "data": {
      "text/plain": [
       "LinearDiscriminantAnalysis()"
      ]
     },
     "execution_count": 142,
     "metadata": {},
     "output_type": "execute_result"
    }
   ],
   "source": [
    "clf = LinearDiscriminantAnalysis()\n",
    "clf.fit(X,y)"
   ]
  },
  {
   "cell_type": "code",
   "execution_count": 144,
   "id": "a8b89483",
   "metadata": {},
   "outputs": [],
   "source": [
    "Xv = X.values.reshape(-1,1)\n",
    "h = 0.02\n",
    "x_min, x_max = Xv.min(), Xv.max() + 1\n",
    "y_min, y_max = y.min(), y.max() + 2\n",
    "xx, yy = np.meshgrid(np.arange(x_min, x_max, h),\n",
    "                     np.arange(y_min, y_max, h))"
   ]
  },
  {
   "cell_type": "code",
   "execution_count": 145,
   "id": "c90960bf",
   "metadata": {},
   "outputs": [
    {
     "data": {
      "image/png": "[encoded data removed]",
      "text/plain": [
       "<Figure size 576x576 with 1 Axes>"
      ]
     },
     "metadata": {
      "needs_background": "light"
     },
     "output_type": "display_data"
    }
   ],
   "source": [
    "z = clf.predict(np.c_[xx.ravel(), yy.ravel()])\n",
    "z = z.reshape(xx.shape)\n",
    "fig = plt.figure(figsize=(8,8))\n",
    "ax = plt.contourf(xx, yy, z, cmap = 'afmhot', alpha=0.3);\n",
    "plt.scatter(X.values[:, 0], X.values[:, 1], c=y, s=80, \n",
    "            alpha=0.9, edgecolors='g');"
   ]
  },
  {
   "cell_type": "code",
   "execution_count": 148,
   "id": "398216ba",
   "metadata": {},
   "outputs": [],
   "source": [
    "Xv = X_kpca\n",
    "h = 0.02\n",
    "x_min, x_max = Xv.min()- 0.5, Xv.max() + 0.5\n",
    "y_min, y_max = y.min() - 0.5, y.max()\n",
    "xx, yy = np.meshgrid(np.arange(x_min, x_max, h),\n",
    "                     np.arange(y_min, y_max, h))"
   ]
  },
  {
   "cell_type": "code",
   "execution_count": 149,
   "id": "258295b6",
   "metadata": {},
   "outputs": [
    {
     "data": {
      "image/png": "[encoded data removed]",
      "text/plain": [
       "<Figure size 720x576 with 1 Axes>"
      ]
     },
     "metadata": {
      "needs_background": "light"
     },
     "output_type": "display_data"
    }
   ],
   "source": [
    "z = clf.predict(np.c_[xx.ravel(), yy.ravel()])\n",
    "z = z.reshape(xx.shape)\n",
    "fig = plt.figure(figsize=(10,8))\n",
    "ax = plt.contourf(xx, yy, z, cmap = 'afmhot', alpha=0.3);\n",
    "plt.scatter(X_kpca[:,0], X_kpca[:,1], c=y, s=80, \n",
    "            alpha=0.9, edgecolors='g');"
   ]
  },
  {
   "cell_type": "markdown",
   "id": "605d03e9",
   "metadata": {},
   "source": [
    "# Comparison Between LDA and PCA"
   ]
  },
  {
   "cell_type": "code",
   "execution_count": null,
   "id": "bf805b4f",
   "metadata": {},
   "outputs": [],
   "source": []
  }
 ],
 "metadata": {
  "kernelspec": {
   "display_name": "Python 3 (ipykernel)",
   "language": "python",
   "name": "python3"
  },
  "language_info": {
   "codemirror_mode": {
    "name": "ipython",
    "version": 3
   },
   "file_extension": ".py",
   "mimetype": "text/x-python",
   "name": "python",
   "nbconvert_exporter": "python",
   "pygments_lexer": "ipython3",
   "version": "3.9.7"
  }
 },
 "nbformat": 4,
 "nbformat_minor": 5
}
