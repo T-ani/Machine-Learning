{
 "cells": [
  {
   "cell_type": "code",
   "execution_count": null,
   "id": "458088cf",
   "metadata": {},
   "outputs": [],
   "source": [
    "# What is decision tree?\n",
    "1. Supervised Learning\n",
    "2. Works for both classification and regression\n",
    "3. Foundation and Random Forests\n",
    "4. Attractive beacuse of interpretability\n",
    "\n",
    "#Decision Tree works by:\n",
    "1.Split based on set impurity criteria\n",
    "2.Stopping criteria\n",
    "\n"
   ]
  }
 ],
 "metadata": {
  "kernelspec": {
   "display_name": "Python 3 (ipykernel)",
   "language": "python",
   "name": "python3"
  },
  "language_info": {
   "codemirror_mode": {
    "name": "ipython",
    "version": 3
   },
   "file_extension": ".py",
   "mimetype": "text/x-python",
   "name": "python",
   "nbconvert_exporter": "python",
   "pygments_lexer": "ipython3",
   "version": "3.9.7"
  }
 },
 "nbformat": 4,
 "nbformat_minor": 5
}
